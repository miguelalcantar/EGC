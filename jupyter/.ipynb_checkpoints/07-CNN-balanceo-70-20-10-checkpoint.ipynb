{
 "cells": [
  {
   "cell_type": "markdown",
   "metadata": {},
   "source": [
    "### Instalando librerias"
   ]
  },
  {
   "cell_type": "code",
   "execution_count": null,
   "metadata": {},
   "outputs": [],
   "source": []
  },
  {
   "cell_type": "code",
   "execution_count": 19,
   "metadata": {},
   "outputs": [],
   "source": [
    "import pandas as pd\n",
    "import matplotlib.pyplot as plt\n",
    "from matplotlib.pyplot import figure\n",
    "import numpy as np\n",
    "import tensorflow as tf\n",
    "from sklearn.metrics import confusion_matrix, precision_score, recall_score, f1_score\n",
    "from keras.utils import to_categorical\n",
    "import keras\n",
    "\n",
    "from keras.models import Sequential\n",
    "from keras.layers import Dense, Convolution1D, MaxPool1D, Flatten, Dropout\n",
    "from keras.layers import Input\n",
    "from keras.models import Model\n",
    "from keras.layers.normalization import BatchNormalization\n",
    "from keras.callbacks import EarlyStopping, ModelCheckpoint"
   ]
  },
  {
   "cell_type": "code",
   "execution_count": 20,
   "metadata": {},
   "outputs": [
    {
     "data": {
      "text/plain": [
       "'2.2.0'"
      ]
     },
     "execution_count": 20,
     "metadata": {},
     "output_type": "execute_result"
    }
   ],
   "source": [
    "tf.__version__"
   ]
  },
  {
   "cell_type": "markdown",
   "metadata": {},
   "source": [
    "### Lectura de datos csv"
   ]
  },
  {
   "cell_type": "code",
   "execution_count": 21,
   "metadata": {},
   "outputs": [],
   "source": [
    "train_df=pd.read_csv('../data/mitbih_train.csv',header=None)\n",
    "test_df=pd.read_csv('../data/mitbih_test.csv',header=None)"
   ]
  },
  {
   "cell_type": "code",
   "execution_count": 22,
   "metadata": {},
   "outputs": [
    {
     "data": {
      "text/plain": [
       "(87554, 188)"
      ]
     },
     "execution_count": 22,
     "metadata": {},
     "output_type": "execute_result"
    }
   ],
   "source": [
    "train_df.shape"
   ]
  },
  {
   "cell_type": "code",
   "execution_count": 23,
   "metadata": {},
   "outputs": [
    {
     "data": {
      "text/plain": [
       "(21892, 188)"
      ]
     },
     "execution_count": 23,
     "metadata": {},
     "output_type": "execute_result"
    }
   ],
   "source": [
    "test_df.shape"
   ]
  },
  {
   "cell_type": "markdown",
   "metadata": {},
   "source": [
    "### Preprocesamiento"
   ]
  },
  {
   "cell_type": "code",
   "execution_count": 24,
   "metadata": {},
   "outputs": [],
   "source": [
    "from sklearn.utils import resample\n",
    "\n",
    "df_1=train_df[train_df[187]==1]\n",
    "df_2=train_df[train_df[187]==2]\n",
    "df_3=train_df[train_df[187]==3]\n",
    "df_4=train_df[train_df[187]==4]\n",
    "df_0=(train_df[train_df[187]==0]).sample(n=20000,random_state=42)\n",
    "\n",
    "df_1_upsample=resample(df_1,replace=True,n_samples=20000,random_state=123)\n",
    "df_2_upsample=resample(df_2,replace=True,n_samples=20000,random_state=124)\n",
    "df_3_upsample=resample(df_3,replace=True,n_samples=20000,random_state=125)\n",
    "df_4_upsample=resample(df_4,replace=True,n_samples=20000,random_state=126)\n",
    "\n",
    "train_df=pd.concat([df_0,df_1_upsample,df_2_upsample,df_3_upsample,df_4_upsample])"
   ]
  },
  {
   "cell_type": "markdown",
   "metadata": {},
   "source": [
    "### Shaping"
   ]
  },
  {
   "cell_type": "code",
   "execution_count": 25,
   "metadata": {},
   "outputs": [],
   "source": [
    "target_train = train_df[187]\n",
    "target_test = test_df[187]\n",
    "\n",
    "y_train = to_categorical(target_train)\n",
    "y_test = to_categorical(target_test)"
   ]
  },
  {
   "cell_type": "code",
   "execution_count": 26,
   "metadata": {},
   "outputs": [
    {
     "data": {
      "text/plain": [
       "21892"
      ]
     },
     "execution_count": 26,
     "metadata": {},
     "output_type": "execute_result"
    }
   ],
   "source": [
    "len(y_test)"
   ]
  },
  {
   "cell_type": "code",
   "execution_count": 27,
   "metadata": {},
   "outputs": [
    {
     "name": "stdout",
     "output_type": "stream",
     "text": [
      "Despues del reshaping: \n",
      "X_train: (100000, 186, 1)\n",
      "X_test: (21892, 186, 1)\n"
     ]
    }
   ],
   "source": [
    "X_train=train_df.iloc[:,:186].values\n",
    "X_test=test_df.iloc[:,:186].values\n",
    "\n",
    "# print('Antes del reshaping: ', X_train.shape)\n",
    "\n",
    "X_train = X_train.reshape(len(X_train), X_train.shape[1],1)\n",
    "X_test = X_test.reshape(len(X_test), X_test.shape[1],1)\n",
    "\n",
    "print('Despues del reshaping: ')\n",
    "print(f'X_train: {X_train.shape}')\n",
    "print(f'X_test: {X_test.shape}')"
   ]
  },
  {
   "cell_type": "markdown",
   "metadata": {},
   "source": [
    "### Modelo"
   ]
  },
  {
   "cell_type": "code",
   "execution_count": 28,
   "metadata": {},
   "outputs": [
    {
     "name": "stdout",
     "output_type": "stream",
     "text": [
      "Epoch 1/40\n",
      "391/391 [==============================] - 54s 137ms/step - loss: 0.3531 - accuracy: 0.8747 - val_loss: 2.3287 - val_accuracy: 0.1524\n",
      "Epoch 2/40\n",
      "391/391 [==============================] - 52s 133ms/step - loss: 0.1572 - accuracy: 0.9468 - val_loss: 0.2993 - val_accuracy: 0.8873\n",
      "Epoch 3/40\n",
      "391/391 [==============================] - 59s 150ms/step - loss: 0.1167 - accuracy: 0.9604 - val_loss: 0.1730 - val_accuracy: 0.9423\n",
      "Epoch 4/40\n",
      "391/391 [==============================] - 58s 147ms/step - loss: 0.0930 - accuracy: 0.9695 - val_loss: 0.2049 - val_accuracy: 0.9286\n",
      "Epoch 5/40\n",
      "391/391 [==============================] - 57s 146ms/step - loss: 0.0788 - accuracy: 0.9749 - val_loss: 0.1644 - val_accuracy: 0.9468\n",
      "Epoch 6/40\n",
      "391/391 [==============================] - 58s 148ms/step - loss: 0.0687 - accuracy: 0.9775 - val_loss: 0.3578 - val_accuracy: 0.8773\n",
      "Epoch 7/40\n",
      "391/391 [==============================] - 56s 142ms/step - loss: 0.0587 - accuracy: 0.9814 - val_loss: 0.2073 - val_accuracy: 0.9333\n",
      "Epoch 8/40\n",
      "391/391 [==============================] - 53s 135ms/step - loss: 0.0536 - accuracy: 0.9828 - val_loss: 0.1648 - val_accuracy: 0.9484\n",
      "Epoch 9/40\n",
      "391/391 [==============================] - 59s 151ms/step - loss: 0.0483 - accuracy: 0.9847 - val_loss: 0.1801 - val_accuracy: 0.9499\n",
      "Epoch 10/40\n",
      "391/391 [==============================] - 56s 144ms/step - loss: 0.0453 - accuracy: 0.9850 - val_loss: 0.2760 - val_accuracy: 0.9149\n",
      "Epoch 11/40\n",
      "391/391 [==============================] - 55s 141ms/step - loss: 0.0396 - accuracy: 0.9876 - val_loss: 0.1418 - val_accuracy: 0.9595\n",
      "Epoch 12/40\n",
      "391/391 [==============================] - 53s 137ms/step - loss: 0.0351 - accuracy: 0.9895 - val_loss: 0.1335 - val_accuracy: 0.9687\n",
      "Epoch 13/40\n",
      "391/391 [==============================] - 53s 135ms/step - loss: 0.0328 - accuracy: 0.9899 - val_loss: 0.2132 - val_accuracy: 0.9371\n",
      "Epoch 14/40\n",
      "391/391 [==============================] - 54s 138ms/step - loss: 0.0349 - accuracy: 0.9889 - val_loss: 0.1489 - val_accuracy: 0.9628\n",
      "Epoch 15/40\n",
      "391/391 [==============================] - 54s 137ms/step - loss: 0.0287 - accuracy: 0.9912 - val_loss: 0.1587 - val_accuracy: 0.9656\n",
      "Epoch 16/40\n",
      "391/391 [==============================] - 54s 138ms/step - loss: 0.0273 - accuracy: 0.9912 - val_loss: 0.1607 - val_accuracy: 0.9630\n",
      "Epoch 17/40\n",
      "391/391 [==============================] - 55s 141ms/step - loss: 0.0251 - accuracy: 0.9920 - val_loss: 0.1945 - val_accuracy: 0.9488\n",
      "Epoch 18/40\n",
      "391/391 [==============================] - 54s 138ms/step - loss: 0.0251 - accuracy: 0.9923 - val_loss: 0.1836 - val_accuracy: 0.9569\n",
      "Epoch 19/40\n",
      "391/391 [==============================] - 54s 138ms/step - loss: 0.0244 - accuracy: 0.9923 - val_loss: 0.2066 - val_accuracy: 0.9529\n",
      "Epoch 20/40\n",
      "391/391 [==============================] - 53s 136ms/step - loss: 0.0234 - accuracy: 0.9926 - val_loss: 0.1717 - val_accuracy: 0.9629\n"
     ]
    }
   ],
   "source": [
    "model = Sequential()\n",
    "\n",
    "model.add(Convolution1D(32, (6), activation='relu', input_shape=(X_train.shape[1],1)))\n",
    "model.add(BatchNormalization())\n",
    "model.add(MaxPool1D(pool_size=(3), strides=(2), padding=\"same\"))\n",
    "\n",
    "model.add(Convolution1D(32, (3), activation='relu', input_shape=(X_train.shape[1],1)))\n",
    "model.add(BatchNormalization())\n",
    "model.add(MaxPool1D(pool_size=(2), strides=(2), padding=\"same\"))\n",
    "\n",
    "model.add(Convolution1D(32, (3), activation='relu', input_shape=(X_train.shape[1],1)))\n",
    "model.add(BatchNormalization())\n",
    "model.add(MaxPool1D(pool_size=(2), strides=(2), padding=\"same\"))\n",
    "\n",
    "model.add(Flatten())\n",
    "\n",
    "model.add(Dense(5, activation='softmax', name='main_output'))\n",
    "\n",
    "model.compile(optimizer='adam', loss='categorical_crossentropy',metrics = ['accuracy'])\n",
    "\n",
    "callbacks = [EarlyStopping(monitor='val_loss', patience=8),\n",
    "                 ModelCheckpoint(filepath='conv_model.h5', monitor='val_loss', save_best_only=True)]\n",
    "\n",
    "history=model.fit(X_train, y_train,epochs=40,callbacks=callbacks, batch_size=256,validation_data=(X_test,y_test))"
   ]
  },
  {
   "cell_type": "markdown",
   "metadata": {},
   "source": [
    "### Ploting results"
   ]
  },
  {
   "cell_type": "code",
   "execution_count": 29,
   "metadata": {},
   "outputs": [],
   "source": [
    "def evaluate_model(history,X_test,y_test,model):\n",
    "    scores = model.evaluate((X_test),y_test, verbose=0)\n",
    "    print(\"Accuracy: %.2f%%\" % (scores[1]*100))\n",
    "    \n",
    "    print(history)\n",
    "    fig1, ax_acc = plt.subplots()\n",
    "    plt.plot(history.history['accuracy'])\n",
    "    plt.plot(history.history['val_accuracy'])\n",
    "    plt.xlabel('Epoch')\n",
    "    plt.ylabel('Accuracy')\n",
    "    plt.title('Model - Accuracy')\n",
    "    plt.legend(['Training', 'Validation'], loc='lower right')\n",
    "    plt.show()\n",
    "    \n",
    "    fig2, ax_loss = plt.subplots()\n",
    "    plt.xlabel('Epoch')\n",
    "    plt.ylabel('Loss')\n",
    "    plt.title('Model- Loss')\n",
    "    plt.legend(['Training', 'Validation'], loc='upper right')\n",
    "    plt.plot(history.history['loss'])\n",
    "    plt.plot(history.history['val_loss'])\n",
    "    plt.show()\n",
    "    target_names=['0','1','2','3','4']\n",
    "    \n",
    "    y_true=[]\n",
    "    for element in y_test:\n",
    "        y_true.append(np.argmax(element))\n",
    "    prediction_proba=model.predict(X_test)\n",
    "    prediction=np.argmax(prediction_proba,axis=1)\n",
    "    cnf_matrix = confusion_matrix(y_true, prediction)"
   ]
  },
  {
   "cell_type": "code",
   "execution_count": 30,
   "metadata": {},
   "outputs": [
    {
     "name": "stdout",
     "output_type": "stream",
     "text": [
      "Accuracy: 96.29%\n",
      "<tensorflow.python.keras.callbacks.History object at 0x7f2568af1100>\n"
     ]
    },
    {
     "data": {
      "image/png": "[encoded data removed]",
      "text/plain": [
       "<Figure size 432x288 with 1 Axes>"
      ]
     },
     "metadata": {
      "needs_background": "light"
     },
     "output_type": "display_data"
    },
    {
     "data": {
      "image/png": "[encoded data removed]",
      "text/plain": [
       "<Figure size 432x288 with 1 Axes>"
      ]
     },
     "metadata": {
      "needs_background": "light"
     },
     "output_type": "display_data"
    }
   ],
   "source": [
    "evaluate_model(history,X_test,y_test,model)\n",
    "y_pred=model.predict(X_test)"
   ]
  },
  {
   "cell_type": "code",
   "execution_count": 31,
   "metadata": {},
   "outputs": [
    {
     "name": "stdout",
     "output_type": "stream",
     "text": [
      "Model: \"sequential\"\n",
      "_________________________________________________________________\n",
      "Layer (type)                 Output Shape              Param #   \n",
      "=================================================================\n",
      "conv1d (Conv1D)              (None, 181, 32)           224       \n",
      "_________________________________________________________________\n",
      "batch_normalization (BatchNo (None, 181, 32)           128       \n",
      "_________________________________________________________________\n",
      "max_pooling1d (MaxPooling1D) (None, 91, 32)            0         \n",
      "_________________________________________________________________\n",
      "conv1d_1 (Conv1D)            (None, 89, 32)            3104      \n",
      "_________________________________________________________________\n",
      "batch_normalization_1 (Batch (None, 89, 32)            128       \n",
      "_________________________________________________________________\n",
      "max_pooling1d_1 (MaxPooling1 (None, 45, 32)            0         \n",
      "_________________________________________________________________\n",
      "conv1d_2 (Conv1D)            (None, 43, 32)            3104      \n",
      "_________________________________________________________________\n",
      "batch_normalization_2 (Batch (None, 43, 32)            128       \n",
      "_________________________________________________________________\n",
      "max_pooling1d_2 (MaxPooling1 (None, 22, 32)            0         \n",
      "_________________________________________________________________\n",
      "flatten (Flatten)            (None, 704)               0         \n",
      "_________________________________________________________________\n",
      "main_output (Dense)          (None, 5)                 3525      \n",
      "=================================================================\n",
      "Total params: 10,341\n",
      "Trainable params: 10,149\n",
      "Non-trainable params: 192\n",
      "_________________________________________________________________\n"
     ]
    }
   ],
   "source": [
    "# model_name = 'best_model.h5'\n",
    "# model = keras.models.load_model(f'../model/{model_name}')\n",
    "\n",
    "y_pred = model.predict(X_test)\n",
    "model.summary()"
   ]
  },
  {
   "cell_type": "code",
   "execution_count": 30,
   "metadata": {},
   "outputs": [],
   "source": [
    "def get_max_index_list(x):\n",
    "    return [np.where(i == np.amax(i))[0][0] for i in x]"
   ]
  },
  {
   "cell_type": "code",
   "execution_count": 31,
   "metadata": {},
   "outputs": [
    {
     "name": "stdout",
     "output_type": "stream",
     "text": [
      "Precision 0.8221866904486284\n",
      "Recall 0.8966201837865228\n",
      "f1_score 0.8555680337542807\n"
     ]
    }
   ],
   "source": [
    "y_test_list = get_max_index_list(y_test)\n",
    "y_pred_list = get_max_index_list(y_pred)\n",
    "\n",
    "print(\"Precision\", precision_score(y_test_list, y_pred_list, average='macro'))\n",
    "print(\"Recall\", recall_score(y_test_list, y_pred_list, average='macro'))\n",
    "print(\"f1_score\", f1_score(y_test_list, y_pred_list, average='macro'))"
   ]
  },
  {
   "cell_type": "markdown",
   "metadata": {},
   "source": [
    "### Confusion matrix"
   ]
  },
  {
   "cell_type": "code",
   "execution_count": 35,
   "metadata": {},
   "outputs": [
    {
     "name": "stdout",
     "output_type": "stream",
     "text": [
      "Normalized confusion matrix\n"
     ]
    },
    {
     "data": {
      "image/png": "[encoded data removed]",
      "text/plain": [
       "<Figure size 720x720 with 2 Axes>"
      ]
     },
     "metadata": {
      "needs_background": "light"
     },
     "output_type": "display_data"
    }
   ],
   "source": [
    "import itertools\n",
    "def plot_confusion_matrix(cm, classes,\n",
    "                          normalize=False,\n",
    "                          title='Confusion matrix',\n",
    "                          cmap=plt.cm.Blues):\n",
    "    \"\"\"\n",
    "    This function prints and plots the confusion matrix.\n",
    "    Normalization can be applied by setting `normalize=True`.\n",
    "    \"\"\"\n",
    "    if normalize:\n",
    "        cm = cm.astype('float') / cm.sum(axis=1)[:, np.newaxis]\n",
    "        print(\"Normalized confusion matrix\")\n",
    "    else:\n",
    "        print('Confusion matrix, without normalization')\n",
    "\n",
    "    plt.imshow(cm, interpolation='nearest', cmap=cmap)\n",
    "    plt.title(title)\n",
    "    plt.colorbar()\n",
    "    tick_marks = np.arange(len(classes))\n",
    "    plt.xticks(tick_marks, classes, rotation=45)\n",
    "    plt.yticks(tick_marks, classes)\n",
    "\n",
    "    fmt = '.2f' if normalize else 'd'\n",
    "    thresh = cm.max() / 2.\n",
    "    for i, j in itertools.product(range(cm.shape[0]), range(cm.shape[1])):\n",
    "        plt.text(j, i, format(cm[i, j], fmt),\n",
    "                 horizontalalignment=\"center\",\n",
    "                 color=\"white\" if cm[i, j] > thresh else \"black\")\n",
    "\n",
    "    plt.tight_layout()\n",
    "    plt.ylabel('True label')\n",
    "    plt.xlabel('Predicted label')\n",
    "\n",
    "# Compute confusion matrix\n",
    "cnf_matrix = confusion_matrix(y_test.argmax(axis=1), y_pred.argmax(axis=1))\n",
    "np.set_printoptions(precision=2)\n",
    "\n",
    "# Plot non-normalized confusion matrix\n",
    "plt.figure(figsize=(10, 10))\n",
    "plot_confusion_matrix(cnf_matrix, classes=['N', 'S', 'V', 'F', 'Q'],normalize=True,\n",
    "                      title='Confusion matrix, with normalization')\n",
    "plt.show()"
   ]
  }
 ],
 "metadata": {
  "kernelspec": {
   "display_name": "Python 3",
   "language": "python",
   "name": "python3"
  },
  "language_info": {
   "codemirror_mode": {
    "name": "ipython",
    "version": 3
   },
   "file_extension": ".py",
   "mimetype": "text/x-python",
   "name": "python",
   "nbconvert_exporter": "python",
   "pygments_lexer": "ipython3",
   "version": "3.8.5"
  }
 },
 "nbformat": 4,
 "nbformat_minor": 4
}
