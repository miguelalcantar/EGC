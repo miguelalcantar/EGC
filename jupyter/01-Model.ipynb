{
 "cells": [
  {
   "cell_type": "markdown",
   "metadata": {},
   "source": [
    "### Instalando librerias"
   ]
  },
  {
   "cell_type": "code",
   "execution_count": 11,
   "metadata": {},
   "outputs": [],
   "source": [
    "import pandas as pd\n",
    "import matplotlib.pyplot as plt\n",
    "from matplotlib.pyplot import figure\n",
    "import numpy as np\n",
    "import tensorflow as tf\n",
    "from keras.utils.np_utils import to_categorical\n",
    "from sklearn.metrics import confusion_matrix\n",
    "import keras\n",
    "\n",
    "from keras.models import Sequential\n",
    "from keras.layers import Dense, Convolution1D, MaxPool1D, Flatten, Dropout\n",
    "from keras.layers import Input\n",
    "from keras.models import Model\n",
    "from keras.layers.normalization import BatchNormalization\n",
    "from keras.callbacks import EarlyStopping, ModelCheckpoint"
   ]
  },
  {
   "cell_type": "code",
   "execution_count": 3,
   "metadata": {},
   "outputs": [
    {
     "data": {
      "text/plain": [
       "'2.2.0'"
      ]
     },
     "execution_count": 3,
     "metadata": {},
     "output_type": "execute_result"
    }
   ],
   "source": [
    "tf.__version__"
   ]
  },
  {
   "cell_type": "markdown",
   "metadata": {},
   "source": [
    "### Lectura de datos csv"
   ]
  },
  {
   "cell_type": "code",
   "execution_count": 4,
   "metadata": {},
   "outputs": [],
   "source": [
    "train_df=pd.read_csv('../data/mitbih_train.csv',header=None)\n",
    "test_df=pd.read_csv('../data/mitbih_test.csv',header=None)"
   ]
  },
  {
   "cell_type": "markdown",
   "metadata": {},
   "source": [
    "### Preprocesamiento"
   ]
  },
  {
   "cell_type": "code",
   "execution_count": 5,
   "metadata": {},
   "outputs": [],
   "source": [
    "from sklearn.utils import resample\n",
    "\n",
    "df_1=train_df[train_df[187]==1]\n",
    "df_2=train_df[train_df[187]==2]\n",
    "df_3=train_df[train_df[187]==3]\n",
    "df_4=train_df[train_df[187]==4]\n",
    "df_0=(train_df[train_df[187]==0]).sample(n=20000,random_state=42)\n",
    "\n",
    "df_1_upsample=resample(df_1,replace=True,n_samples=20000,random_state=123)\n",
    "df_2_upsample=resample(df_2,replace=True,n_samples=20000,random_state=124)\n",
    "df_3_upsample=resample(df_3,replace=True,n_samples=20000,random_state=125)\n",
    "df_4_upsample=resample(df_4,replace=True,n_samples=20000,random_state=126)\n",
    "\n",
    "train_df=pd.concat([df_0,df_1_upsample,df_2_upsample,df_3_upsample,df_4_upsample])"
   ]
  },
  {
   "cell_type": "markdown",
   "metadata": {},
   "source": [
    "### Agregando ruido\n",
    "---\n",
    "Esto sirve para generalizar mejor el modelo"
   ]
  },
  {
   "cell_type": "code",
   "execution_count": 22,
   "metadata": {},
   "outputs": [],
   "source": [
    "def add_gaussian_noise(signal):\n",
    "    noise=np.random.normal(0,0.05,186)\n",
    "    return (signal+noise)"
   ]
  },
  {
   "cell_type": "code",
   "execution_count": 23,
   "metadata": {},
   "outputs": [
    {
     "data": {
      "image/png": "[encoded data removed]",
      "text/plain": [
       "<Figure size 432x288 with 2 Axes>"
      ]
     },
     "metadata": {
      "needs_background": "light"
     },
     "output_type": "display_data"
    }
   ],
   "source": [
    "tempo=c.iloc[0,:186]\n",
    "bruiter=add_gaussian_noise(tempo)\n",
    "\n",
    "plt.subplot(2,1,1)\n",
    "plt.plot(c.iloc[0,:186])\n",
    "\n",
    "plt.subplot(2,1,2)\n",
    "plt.plot(bruiter)\n",
    "\n",
    "plt.show()"
   ]
  },
  {
   "cell_type": "markdown",
   "metadata": {},
   "source": [
    "### Shaping"
   ]
  },
  {
   "cell_type": "code",
   "execution_count": 6,
   "metadata": {},
   "outputs": [],
   "source": [
    "target_train = train_df[187]\n",
    "target_test = test_df[187]\n",
    "\n",
    "y_train = to_categorical(target_train)\n",
    "y_test = to_categorical(target_test)"
   ]
  },
  {
   "cell_type": "code",
   "execution_count": 7,
   "metadata": {},
   "outputs": [
    {
     "data": {
      "text/plain": [
       "21892"
      ]
     },
     "execution_count": 7,
     "metadata": {},
     "output_type": "execute_result"
    }
   ],
   "source": [
    "len(y_test)"
   ]
  },
  {
   "cell_type": "code",
   "execution_count": 8,
   "metadata": {},
   "outputs": [],
   "source": [
    "X_train=train_df.iloc[:,:186].values\n",
    "X_test=test_df.iloc[:,:186].values\n",
    "\n",
    "X_train = X_train.reshape(len(X_train), X_train.shape[1],1)\n",
    "X_test = X_test.reshape(len(X_test), X_test.shape[1],1)"
   ]
  },
  {
   "cell_type": "code",
   "execution_count": 9,
   "metadata": {},
   "outputs": [
    {
     "data": {
      "text/plain": [
       "(100000, 186, 1)"
      ]
     },
     "execution_count": 9,
     "metadata": {},
     "output_type": "execute_result"
    }
   ],
   "source": [
    "X_train.shape"
   ]
  },
  {
   "cell_type": "markdown",
   "metadata": {},
   "source": [
    "### Modelo"
   ]
  },
  {
   "cell_type": "code",
   "execution_count": 21,
   "metadata": {},
   "outputs": [
    {
     "name": "stdout",
     "output_type": "stream",
     "text": [
      "Epoch 1/40\n",
      "391/391 [==============================] - 48s 124ms/step - loss: 0.3487 - accuracy: 0.8754 - val_loss: 1.9996 - val_accuracy: 0.1516\n",
      "Epoch 2/40\n",
      "391/391 [==============================] - 51s 131ms/step - loss: 0.1577 - accuracy: 0.9468 - val_loss: 0.2437 - val_accuracy: 0.9165\n",
      "Epoch 3/40\n",
      "391/391 [==============================] - 52s 133ms/step - loss: 0.1136 - accuracy: 0.9630 - val_loss: 0.1683 - val_accuracy: 0.9442\n",
      "Epoch 4/40\n",
      "391/391 [==============================] - 51s 131ms/step - loss: 0.0925 - accuracy: 0.9702 - val_loss: 0.1858 - val_accuracy: 0.9383\n",
      "Epoch 5/40\n",
      "391/391 [==============================] - 55s 140ms/step - loss: 0.0765 - accuracy: 0.9748 - val_loss: 0.1509 - val_accuracy: 0.9530\n",
      "Epoch 6/40\n",
      "391/391 [==============================] - 55s 141ms/step - loss: 0.0654 - accuracy: 0.9789 - val_loss: 0.1485 - val_accuracy: 0.9551\n",
      "Epoch 7/40\n",
      "391/391 [==============================] - 52s 132ms/step - loss: 0.0575 - accuracy: 0.9812 - val_loss: 0.1354 - val_accuracy: 0.9604\n",
      "Epoch 8/40\n",
      "391/391 [==============================] - 55s 142ms/step - loss: 0.0523 - accuracy: 0.9831 - val_loss: 0.1372 - val_accuracy: 0.9589\n",
      "Epoch 9/40\n",
      "391/391 [==============================] - 53s 135ms/step - loss: 0.0441 - accuracy: 0.9864 - val_loss: 0.1990 - val_accuracy: 0.9418\n",
      "Epoch 10/40\n",
      "391/391 [==============================] - 54s 137ms/step - loss: 0.0418 - accuracy: 0.9871 - val_loss: 0.1569 - val_accuracy: 0.9562\n",
      "Epoch 11/40\n",
      "391/391 [==============================] - 52s 133ms/step - loss: 0.0372 - accuracy: 0.9885 - val_loss: 0.1550 - val_accuracy: 0.9585\n",
      "Epoch 12/40\n",
      "391/391 [==============================] - 53s 137ms/step - loss: 0.0348 - accuracy: 0.9890 - val_loss: 0.3067 - val_accuracy: 0.9180\n",
      "Epoch 13/40\n",
      "391/391 [==============================] - 52s 132ms/step - loss: 0.0320 - accuracy: 0.9900 - val_loss: 0.1953 - val_accuracy: 0.9524\n",
      "Epoch 14/40\n",
      "391/391 [==============================] - 52s 133ms/step - loss: 0.0305 - accuracy: 0.9906 - val_loss: 0.1504 - val_accuracy: 0.9656\n",
      "Epoch 15/40\n",
      "391/391 [==============================] - 52s 134ms/step - loss: 0.0284 - accuracy: 0.9912 - val_loss: 0.1620 - val_accuracy: 0.9612\n"
     ]
    }
   ],
   "source": [
    "model = Sequential()\n",
    "\n",
    "model.add(Convolution1D(32, (6), activation='relu', input_shape=(X_train.shape[1],1)))\n",
    "model.add(BatchNormalization())\n",
    "model.add(MaxPool1D(pool_size=(3), strides=(2), padding=\"same\"))\n",
    "\n",
    "model.add(Convolution1D(32, (3), activation='relu', input_shape=(X_train.shape[1],1)))\n",
    "model.add(BatchNormalization())\n",
    "model.add(MaxPool1D(pool_size=(2), strides=(2), padding=\"same\"))\n",
    "\n",
    "model.add(Convolution1D(32, (3), activation='relu', input_shape=(X_train.shape[1],1)))\n",
    "model.add(BatchNormalization())\n",
    "model.add(MaxPool1D(pool_size=(2), strides=(2), padding=\"same\"))\n",
    "\n",
    "model.add(Flatten())\n",
    "\n",
    "model.add(Dense(5, activation='softmax', name='main_output'))\n",
    "\n",
    "model.compile(optimizer='adam', loss='categorical_crossentropy',metrics = ['accuracy'])\n",
    "\n",
    "callbacks = [EarlyStopping(monitor='val_loss', patience=8),\n",
    "                 ModelCheckpoint(filepath='conv_model.h5', monitor='val_loss', save_best_only=True)]\n",
    "\n",
    "history=model.fit(X_train, y_train,epochs=40,callbacks=callbacks, batch_size=256,validation_data=(X_test,y_test))"
   ]
  },
  {
   "cell_type": "markdown",
   "metadata": {},
   "source": [
    "### Ploting results"
   ]
  },
  {
   "cell_type": "code",
   "execution_count": 22,
   "metadata": {},
   "outputs": [],
   "source": [
    "def evaluate_model(history,X_test,y_test,model):\n",
    "    scores = model.evaluate((X_test),y_test, verbose=0)\n",
    "    print(\"Accuracy: %.2f%%\" % (scores[1]*100))\n",
    "    \n",
    "    print(history)\n",
    "    fig1, ax_acc = plt.subplots()\n",
    "    plt.plot(history.history['accuracy'])\n",
    "    plt.plot(history.history['val_accuracy'])\n",
    "    plt.xlabel('Epoch')\n",
    "    plt.ylabel('Accuracy')\n",
    "    plt.title('Model - Accuracy')\n",
    "    plt.legend(['Training', 'Validation'], loc='lower right')\n",
    "    plt.show()\n",
    "    \n",
    "    fig2, ax_loss = plt.subplots()\n",
    "    plt.xlabel('Epoch')\n",
    "    plt.ylabel('Loss')\n",
    "    plt.title('Model- Loss')\n",
    "    plt.legend(['Training', 'Validation'], loc='upper right')\n",
    "    plt.plot(history.history['loss'])\n",
    "    plt.plot(history.history['val_loss'])\n",
    "    plt.show()\n",
    "    target_names=['0','1','2','3','4']\n",
    "    \n",
    "    y_true=[]\n",
    "    for element in y_test:\n",
    "        y_true.append(np.argmax(element))\n",
    "    prediction_proba=model.predict(X_test)\n",
    "    prediction=np.argmax(prediction_proba,axis=1)\n",
    "    cnf_matrix = confusion_matrix(y_true, prediction)"
   ]
  },
  {
   "cell_type": "code",
   "execution_count": 23,
   "metadata": {},
   "outputs": [
    {
     "name": "stdout",
     "output_type": "stream",
     "text": [
      "Accuracy: 96.12%\n",
      "<tensorflow.python.keras.callbacks.History object at 0x7f709fed4460>\n"
     ]
    },
    {
     "data": {
      "image/png": "[encoded data removed]",
      "text/plain": [
       "<Figure size 432x288 with 1 Axes>"
      ]
     },
     "metadata": {
      "needs_background": "light"
     },
     "output_type": "display_data"
    },
    {
     "data": {
      "image/png": "[encoded data removed]",
      "text/plain": [
       "<Figure size 432x288 with 1 Axes>"
      ]
     },
     "metadata": {
      "needs_background": "light"
     },
     "output_type": "display_data"
    }
   ],
   "source": [
    "evaluate_model(history,X_test,y_test,model)\n",
    "y_pred=model.predict(X_test)"
   ]
  },
  {
   "cell_type": "code",
   "execution_count": 34,
   "metadata": {},
   "outputs": [],
   "source": [
    "model_name = 'best_model.h5'\n",
    "model = keras.models.load_model(f'../model/{model_name}')\n",
    "\n",
    "y_pred = model.predict(X_test)"
   ]
  },
  {
   "cell_type": "markdown",
   "metadata": {},
   "source": [
    "### Confusion matrix"
   ]
  },
  {
   "cell_type": "code",
   "execution_count": 35,
   "metadata": {},
   "outputs": [
    {
     "name": "stdout",
     "output_type": "stream",
     "text": [
      "Normalized confusion matrix\n"
     ]
    },
    {
     "data": {
      "image/png": "[encoded data removed]",
      "text/plain": [
       "<Figure size 720x720 with 2 Axes>"
      ]
     },
     "metadata": {
      "needs_background": "light"
     },
     "output_type": "display_data"
    }
   ],
   "source": [
    "import itertools\n",
    "def plot_confusion_matrix(cm, classes,\n",
    "                          normalize=False,\n",
    "                          title='Confusion matrix',\n",
    "                          cmap=plt.cm.Blues):\n",
    "    \"\"\"\n",
    "    This function prints and plots the confusion matrix.\n",
    "    Normalization can be applied by setting `normalize=True`.\n",
    "    \"\"\"\n",
    "    if normalize:\n",
    "        cm = cm.astype('float') / cm.sum(axis=1)[:, np.newaxis]\n",
    "        print(\"Normalized confusion matrix\")\n",
    "    else:\n",
    "        print('Confusion matrix, without normalization')\n",
    "\n",
    "    plt.imshow(cm, interpolation='nearest', cmap=cmap)\n",
    "    plt.title(title)\n",
    "    plt.colorbar()\n",
    "    tick_marks = np.arange(len(classes))\n",
    "    plt.xticks(tick_marks, classes, rotation=45)\n",
    "    plt.yticks(tick_marks, classes)\n",
    "\n",
    "    fmt = '.2f' if normalize else 'd'\n",
    "    thresh = cm.max() / 2.\n",
    "    for i, j in itertools.product(range(cm.shape[0]), range(cm.shape[1])):\n",
    "        plt.text(j, i, format(cm[i, j], fmt),\n",
    "                 horizontalalignment=\"center\",\n",
    "                 color=\"white\" if cm[i, j] > thresh else \"black\")\n",
    "\n",
    "    plt.tight_layout()\n",
    "    plt.ylabel('True label')\n",
    "    plt.xlabel('Predicted label')\n",
    "\n",
    "# Compute confusion matrix\n",
    "cnf_matrix = confusion_matrix(y_test.argmax(axis=1), y_pred.argmax(axis=1))\n",
    "np.set_printoptions(precision=2)\n",
    "\n",
    "# Plot non-normalized confusion matrix\n",
    "plt.figure(figsize=(10, 10))\n",
    "plot_confusion_matrix(cnf_matrix, classes=['N', 'S', 'V', 'F', 'Q'],normalize=True,\n",
    "                      title='Confusion matrix, with normalization')\n",
    "plt.show()"
   ]
  }
 ],
 "metadata": {
  "kernelspec": {
   "display_name": "Python 3",
   "language": "python",
   "name": "python3"
  },
  "language_info": {
   "codemirror_mode": {
    "name": "ipython",
    "version": 3
   },
   "file_extension": ".py",
   "mimetype": "text/x-python",
   "name": "python",
   "nbconvert_exporter": "python",
   "pygments_lexer": "ipython3",
   "version": "3.8.5"
  }
 },
 "nbformat": 4,
 "nbformat_minor": 4
}
