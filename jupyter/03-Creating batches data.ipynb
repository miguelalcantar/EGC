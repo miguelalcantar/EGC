{
 "cells": [
  {
   "cell_type": "code",
   "execution_count": 5,
   "metadata": {},
   "outputs": [],
   "source": [
    "import pandas as pd\n",
    "import numpy as np\n",
    "import keras"
   ]
  },
  {
   "cell_type": "code",
   "execution_count": 6,
   "metadata": {},
   "outputs": [],
   "source": [
    "train_df=pd.read_csv('../data/mitbih_train.csv',header=None)\n",
    "test_df=pd.read_csv('../data/mitbih_test.csv',header=None)"
   ]
  },
  {
   "cell_type": "code",
   "execution_count": 7,
   "metadata": {},
   "outputs": [],
   "source": [
    "model_name = 'best_model.h5'\n",
    "model = keras.models.load_model(f'../model/{model_name}')"
   ]
  },
  {
   "cell_type": "code",
   "execution_count": 32,
   "metadata": {},
   "outputs": [
    {
     "name": "stdout",
     "output_type": "stream",
     "text": [
      "Prediction for 3 1\n",
      " [[4.3976724e-01 2.3425880e-04 7.6143094e-04 5.5921650e-01 2.0588024e-05]]\n",
      "Loaded Prediction for 3 1\n",
      " [[4.3976724e-01 2.3425880e-04 7.6143094e-04 5.5921650e-01 2.0588024e-05]]\n"
     ]
    }
   ],
   "source": [
    "test_df=pd.read_csv('../data/mitbih_test.csv',header=None)\n",
    "\n",
    "i = int(np.random.rand(1) * 5)\n",
    "\n",
    "df = test_df[test_df[187] == i]\n",
    "\n",
    "j = int(np.random.rand(1) * df.shape[0])\n",
    "\n",
    "X = df.iloc[j,:-1]\n",
    "\n",
    "X.to_csv(f'../samples/sample_{i}_{j}.csv', index=False)\n",
    "\n",
    "X = X.values\n",
    "X = X.reshape(1, X.shape[0],1)\n",
    "\n",
    "print(f\"Prediction for {i} {j}\\n {model.predict(X)}\")\n",
    "\n",
    "#read again\n",
    "X_ = pd.read_csv(f'../samples/sample_{i}_{j}.csv')\n",
    "X_ = X_.values\n",
    "X_ = X_.reshape(1, X_.shape[0],1)\n",
    "\n",
    "print(f\"Loaded Prediction for {i} {j}\\n {model.predict(X_)}\")"
   ]
  },
  {
   "cell_type": "code",
   "execution_count": null,
   "metadata": {},
   "outputs": [],
   "source": []
  }
 ],
 "metadata": {
  "kernelspec": {
   "display_name": "Python 3",
   "language": "python",
   "name": "python3"
  },
  "language_info": {
   "codemirror_mode": {
    "name": "ipython",
    "version": 3
   },
   "file_extension": ".py",
   "mimetype": "text/x-python",
   "name": "python",
   "nbconvert_exporter": "python",
   "pygments_lexer": "ipython3",
   "version": "3.8.5"
  }
 },
 "nbformat": 4,
 "nbformat_minor": 4
}
