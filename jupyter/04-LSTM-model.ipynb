{
 "cells": [
  {
   "cell_type": "markdown",
   "metadata": {},
   "source": [
    "### Instalando librerias"
   ]
  },
  {
   "cell_type": "code",
   "execution_count": 1,
   "metadata": {},
   "outputs": [],
   "source": [
    "import pandas as pd\n",
    "import matplotlib.pyplot as plt\n",
    "from matplotlib.pyplot import figure\n",
    "import numpy as np\n",
    "import tensorflow as tf\n",
    "from keras.utils.np_utils import to_categorical\n",
    "from sklearn.metrics import confusion_matrix\n",
    "import keras\n",
    "\n",
    "from keras.models import Sequential\n",
    "from keras.layers import Dense, Convolution1D, MaxPool1D, Flatten, Dropout\n",
    "from keras.layers import Input\n",
    "from keras.models import Model\n",
    "from keras.layers.normalization import BatchNormalization\n",
    "from keras.callbacks import EarlyStopping, ModelCheckpoint"
   ]
  },
  {
   "cell_type": "code",
   "execution_count": 2,
   "metadata": {},
   "outputs": [
    {
     "data": {
      "text/plain": [
       "'2.2.0'"
      ]
     },
     "execution_count": 2,
     "metadata": {},
     "output_type": "execute_result"
    }
   ],
   "source": [
    "tf.__version__"
   ]
  },
  {
   "cell_type": "markdown",
   "metadata": {},
   "source": [
    "### Lectura de datos csv"
   ]
  },
  {
   "cell_type": "code",
   "execution_count": 3,
   "metadata": {},
   "outputs": [],
   "source": [
    "train_df=pd.read_csv('../data/mitbih_train.csv',header=None)\n",
    "test_df=pd.read_csv('../data/mitbih_test.csv',header=None)"
   ]
  },
  {
   "cell_type": "markdown",
   "metadata": {},
   "source": [
    "### Preprocesamiento"
   ]
  },
  {
   "cell_type": "code",
   "execution_count": 4,
   "metadata": {},
   "outputs": [],
   "source": [
    "from sklearn.utils import resample\n",
    "\n",
    "df_1=train_df[train_df[187]==1]\n",
    "df_2=train_df[train_df[187]==2]\n",
    "df_3=train_df[train_df[187]==3]\n",
    "df_4=train_df[train_df[187]==4]\n",
    "df_0=(train_df[train_df[187]==0]).sample(n=20000,random_state=42)\n",
    "\n",
    "df_1_upsample=resample(df_1,replace=True,n_samples=20000,random_state=123)\n",
    "df_2_upsample=resample(df_2,replace=True,n_samples=20000,random_state=124)\n",
    "df_3_upsample=resample(df_3,replace=True,n_samples=20000,random_state=125)\n",
    "df_4_upsample=resample(df_4,replace=True,n_samples=20000,random_state=126)\n",
    "\n",
    "train_df=pd.concat([df_0,df_1_upsample,df_2_upsample,df_3_upsample,df_4_upsample])"
   ]
  },
  {
   "cell_type": "markdown",
   "metadata": {},
   "source": [
    "### Shaping"
   ]
  },
  {
   "cell_type": "code",
   "execution_count": 5,
   "metadata": {},
   "outputs": [],
   "source": [
    "target_train = train_df[187]\n",
    "target_test = test_df[187]\n",
    "\n",
    "y_train = to_categorical(target_train)\n",
    "y_test = to_categorical(target_test)"
   ]
  },
  {
   "cell_type": "code",
   "execution_count": 6,
   "metadata": {},
   "outputs": [
    {
     "data": {
      "text/plain": [
       "(21892, 5)"
      ]
     },
     "execution_count": 6,
     "metadata": {},
     "output_type": "execute_result"
    }
   ],
   "source": [
    "y_test.shape"
   ]
  },
  {
   "cell_type": "code",
   "execution_count": 7,
   "metadata": {},
   "outputs": [
    {
     "name": "stdout",
     "output_type": "stream",
     "text": [
      "Antes del reshaping:  (100000, 186)\n",
      "Despues del reshaping:  (100000, 186, 1)\n"
     ]
    }
   ],
   "source": [
    "X_train=train_df.iloc[:,:186].values\n",
    "X_test=test_df.iloc[:,:186].values\n",
    "\n",
    "print('Antes del reshaping: ', X_train.shape)\n",
    "\n",
    "X_train = X_train.reshape(len(X_train), X_train.shape[1],1)\n",
    "X_test = X_test.reshape(len(X_test), X_test.shape[1],1)\n",
    "\n",
    "print('Despues del reshaping: ', X_train.shape)"
   ]
  },
  {
   "cell_type": "markdown",
   "metadata": {},
   "source": [
    "### Modelo"
   ]
  },
  {
   "cell_type": "code",
   "execution_count": 9,
   "metadata": {},
   "outputs": [],
   "source": [
    "from keras.layers import Bidirectional, LSTM"
   ]
  },
  {
   "cell_type": "code",
   "execution_count": null,
   "metadata": {},
   "outputs": [
    {
     "name": "stdout",
     "output_type": "stream",
     "text": [
      "Epoch 1/100\n",
      "25/25 [==============================] - 85s 3s/step - loss: 0.5940 - accuracy: 0.1972 - val_loss: 0.4867 - val_accuracy: 0.0735\n",
      "Epoch 2/100\n",
      "25/25 [==============================] - 87s 3s/step - loss: 0.5027 - accuracy: 0.2338 - val_loss: 0.5106 - val_accuracy: 0.0577\n",
      "Epoch 3/100\n",
      "25/25 [==============================] - 86s 3s/step - loss: 0.4961 - accuracy: 0.2246 - val_loss: 0.4991 - val_accuracy: 0.0742\n",
      "Epoch 4/100\n",
      "25/25 [==============================] - 86s 3s/step - loss: 0.4879 - accuracy: 0.3478 - val_loss: 0.4933 - val_accuracy: 0.0769\n",
      "Epoch 5/100\n",
      "25/25 [==============================] - 86s 3s/step - loss: 0.4647 - accuracy: 0.4313 - val_loss: 0.5018 - val_accuracy: 0.1105\n",
      "Epoch 6/100\n",
      "25/25 [==============================] - 88s 4s/step - loss: 0.4322 - accuracy: 0.4960 - val_loss: 0.4731 - val_accuracy: 0.1327\n",
      "Epoch 7/100\n",
      "25/25 [==============================] - 88s 4s/step - loss: 0.3926 - accuracy: 0.5420 - val_loss: 0.4581 - val_accuracy: 0.3315\n",
      "Epoch 8/100\n",
      "25/25 [==============================] - 87s 3s/step - loss: 0.3602 - accuracy: 0.6076 - val_loss: 0.4454 - val_accuracy: 0.3959\n",
      "Epoch 9/100\n",
      "25/25 [==============================] - 87s 3s/step - loss: 0.3329 - accuracy: 0.6624 - val_loss: 0.4194 - val_accuracy: 0.4432\n",
      "Epoch 10/100\n",
      "25/25 [==============================] - 88s 4s/step - loss: 0.3091 - accuracy: 0.6949 - val_loss: 0.3922 - val_accuracy: 0.5110\n",
      "Epoch 11/100\n",
      "25/25 [==============================] - 88s 4s/step - loss: 0.2847 - accuracy: 0.7257 - val_loss: 0.3639 - val_accuracy: 0.5862\n",
      "Epoch 12/100\n",
      "25/25 [==============================] - 90s 4s/step - loss: 0.2679 - accuracy: 0.7396 - val_loss: 0.3615 - val_accuracy: 0.5846\n",
      "Epoch 13/100\n",
      "25/25 [==============================] - 88s 4s/step - loss: 0.2544 - accuracy: 0.7553 - val_loss: 0.3485 - val_accuracy: 0.6192\n",
      "Epoch 14/100\n",
      "25/25 [==============================] - 88s 4s/step - loss: 0.2442 - accuracy: 0.7639 - val_loss: 0.3252 - val_accuracy: 0.6635\n",
      "Epoch 15/100\n",
      "25/25 [==============================] - 88s 4s/step - loss: 0.2346 - accuracy: 0.7728 - val_loss: 0.3349 - val_accuracy: 0.6497\n",
      "Epoch 16/100\n",
      "25/25 [==============================] - 90s 4s/step - loss: 0.2275 - accuracy: 0.7793 - val_loss: 0.3104 - val_accuracy: 0.6811\n",
      "Epoch 17/100\n",
      "25/25 [==============================] - 89s 4s/step - loss: 0.2220 - accuracy: 0.7834 - val_loss: 0.3077 - val_accuracy: 0.6962\n",
      "Epoch 18/100\n",
      "25/25 [==============================] - 89s 4s/step - loss: 0.2154 - accuracy: 0.7896 - val_loss: 0.2995 - val_accuracy: 0.7065\n",
      "Epoch 19/100\n",
      "25/25 [==============================] - 91s 4s/step - loss: 0.2119 - accuracy: 0.7932 - val_loss: 0.2916 - val_accuracy: 0.7168\n",
      "Epoch 20/100\n",
      "25/25 [==============================] - 88s 4s/step - loss: 0.2072 - accuracy: 0.7971 - val_loss: 0.2943 - val_accuracy: 0.7191\n",
      "Epoch 21/100\n",
      "25/25 [==============================] - 88s 4s/step - loss: 0.2052 - accuracy: 0.7981 - val_loss: 0.2750 - val_accuracy: 0.7421\n",
      "Epoch 22/100\n",
      "25/25 [==============================] - 87s 3s/step - loss: 0.2031 - accuracy: 0.8002 - val_loss: 0.2782 - val_accuracy: 0.7370\n",
      "Epoch 23/100\n",
      "25/25 [==============================] - 89s 4s/step - loss: 0.1969 - accuracy: 0.8064 - val_loss: 0.2687 - val_accuracy: 0.7519\n",
      "Epoch 24/100\n",
      "25/25 [==============================] - 89s 4s/step - loss: 0.1934 - accuracy: 0.8107 - val_loss: 0.2897 - val_accuracy: 0.7220\n",
      "Epoch 25/100\n",
      "25/25 [==============================] - 87s 3s/step - loss: 0.1936 - accuracy: 0.8101 - val_loss: 0.2576 - val_accuracy: 0.7649\n",
      "Epoch 26/100\n",
      "25/25 [==============================] - 89s 4s/step - loss: 0.1885 - accuracy: 0.8151 - val_loss: 0.2566 - val_accuracy: 0.7658\n",
      "Epoch 27/100\n",
      "25/25 [==============================] - 89s 4s/step - loss: 0.1856 - accuracy: 0.8194 - val_loss: 0.2579 - val_accuracy: 0.7647\n",
      "Epoch 28/100\n",
      "25/25 [==============================] - 88s 4s/step - loss: 0.1834 - accuracy: 0.8226 - val_loss: 0.2507 - val_accuracy: 0.7752\n",
      "Epoch 29/100\n",
      "25/25 [==============================] - 88s 4s/step - loss: 0.1807 - accuracy: 0.8253 - val_loss: 0.2512 - val_accuracy: 0.7743\n",
      "Epoch 30/100\n",
      "25/25 [==============================] - 89s 4s/step - loss: 0.1773 - accuracy: 0.8297 - val_loss: 0.2488 - val_accuracy: 0.7792\n",
      "Epoch 31/100\n",
      "25/25 [==============================] - 87s 3s/step - loss: 0.1766 - accuracy: 0.8316 - val_loss: 0.2444 - val_accuracy: 0.7873\n",
      "Epoch 32/100\n",
      "25/25 [==============================] - 89s 4s/step - loss: 0.1723 - accuracy: 0.8367 - val_loss: 0.2438 - val_accuracy: 0.7891\n",
      "Epoch 33/100\n",
      "25/25 [==============================] - 90s 4s/step - loss: 0.1719 - accuracy: 0.8375 - val_loss: 0.2357 - val_accuracy: 0.8002\n",
      "Epoch 34/100\n",
      "25/25 [==============================] - 89s 4s/step - loss: 0.1703 - accuracy: 0.8384 - val_loss: 0.2368 - val_accuracy: 0.7966\n",
      "Epoch 35/100\n",
      "25/25 [==============================] - 89s 4s/step - loss: 0.1678 - accuracy: 0.8406 - val_loss: 0.2372 - val_accuracy: 0.8131\n",
      "Epoch 36/100\n",
      "25/25 [==============================] - 89s 4s/step - loss: 0.1869 - accuracy: 0.8184 - val_loss: 0.2801 - val_accuracy: 0.7549\n",
      "Epoch 37/100\n",
      "25/25 [==============================] - 88s 4s/step - loss: 0.1897 - accuracy: 0.8126 - val_loss: 0.2344 - val_accuracy: 0.8231\n",
      "Epoch 38/100\n",
      "25/25 [==============================] - 92s 4s/step - loss: 0.1807 - accuracy: 0.8259 - val_loss: 0.2414 - val_accuracy: 0.8143\n",
      "Epoch 39/100\n",
      "25/25 [==============================] - 89s 4s/step - loss: 0.1781 - accuracy: 0.8285 - val_loss: 0.2486 - val_accuracy: 0.8084\n",
      "Epoch 40/100\n",
      "25/25 [==============================] - 88s 4s/step - loss: 0.1749 - accuracy: 0.8302 - val_loss: 0.2491 - val_accuracy: 0.8002\n",
      "Epoch 41/100\n",
      "25/25 [==============================] - 89s 4s/step - loss: 0.1731 - accuracy: 0.8317 - val_loss: 0.2398 - val_accuracy: 0.8079\n",
      "Epoch 42/100\n",
      "25/25 [==============================] - 90s 4s/step - loss: 0.1694 - accuracy: 0.8338 - val_loss: 0.2329 - val_accuracy: 0.8170\n",
      "Epoch 43/100\n",
      "25/25 [==============================] - 89s 4s/step - loss: 0.1684 - accuracy: 0.8351 - val_loss: 0.2319 - val_accuracy: 0.8224\n",
      "Epoch 44/100\n",
      "25/25 [==============================] - 89s 4s/step - loss: 0.1665 - accuracy: 0.8362 - val_loss: 0.2402 - val_accuracy: 0.8047\n",
      "Epoch 45/100\n",
      "25/25 [==============================] - 86s 3s/step - loss: 0.1641 - accuracy: 0.8398 - val_loss: 0.2227 - val_accuracy: 0.8267\n",
      "Epoch 46/100\n",
      "25/25 [==============================] - 86s 3s/step - loss: 0.1614 - accuracy: 0.8415 - val_loss: 0.2150 - val_accuracy: 0.8363\n",
      "Epoch 47/100\n",
      "25/25 [==============================] - 85s 3s/step - loss: 0.1613 - accuracy: 0.8423 - val_loss: 0.2241 - val_accuracy: 0.8265\n",
      "Epoch 48/100\n",
      "25/25 [==============================] - 87s 3s/step - loss: 0.1590 - accuracy: 0.8450 - val_loss: 0.2284 - val_accuracy: 0.8157\n",
      "Epoch 49/100\n",
      "25/25 [==============================] - 103s 4s/step - loss: 0.1560 - accuracy: 0.8473 - val_loss: 0.2288 - val_accuracy: 0.8157\n",
      "Epoch 50/100\n",
      "25/25 [==============================] - 88s 4s/step - loss: 0.1549 - accuracy: 0.8480 - val_loss: 0.2157 - val_accuracy: 0.8317\n",
      "Epoch 51/100\n",
      "25/25 [==============================] - 88s 4s/step - loss: 0.1540 - accuracy: 0.8500 - val_loss: 0.2179 - val_accuracy: 0.8315\n",
      "Epoch 52/100\n",
      "25/25 [==============================] - 88s 4s/step - loss: 0.1531 - accuracy: 0.8511 - val_loss: 0.2187 - val_accuracy: 0.8274\n",
      "Epoch 53/100\n",
      "16/25 [==================>...........] - ETA: 1:16 - loss: 0.1508 - accuracy: 0.8521"
     ]
    }
   ],
   "source": [
    "model = Sequential()\n",
    "\n",
    "model.add(Bidirectional(LSTM(32, input_shape=(X_train.shape[1], X_train.shape[2]))))\n",
    "\n",
    "model.add(Dense(32))\n",
    "model.add(Dense(5, activation='sigmoid'))\n",
    "\n",
    "\n",
    "model.compile(optimizer='adam', loss='binary_crossentropy',metrics = ['accuracy'])\n",
    "\n",
    "callbacks = [EarlyStopping(monitor='val_loss', patience=8),\n",
    "                 ModelCheckpoint(filepath='lstm_model.h5', monitor='val_loss', save_best_only=True)]\n",
    "\n",
    "history=model.fit(X_train, y_train,epochs=100,callbacks=callbacks, batch_size=4096,validation_data=(X_test,y_test))"
   ]
  },
  {
   "cell_type": "markdown",
   "metadata": {},
   "source": [
    "### Ploting results"
   ]
  },
  {
   "cell_type": "code",
   "execution_count": 10,
   "metadata": {},
   "outputs": [],
   "source": [
    "def evaluate_model(history,X_test,y_test,model):\n",
    "    scores = model.evaluate((X_test),y_test, verbose=0)\n",
    "    print(\"Accuracy: %.2f%%\" % (scores[1]*100))\n",
    "    \n",
    "    print(history)\n",
    "    fig1, ax_acc = plt.subplots()\n",
    "    plt.plot(history.history['accuracy'])\n",
    "    plt.plot(history.history['val_accuracy'])\n",
    "    plt.xlabel('Epoch')\n",
    "    plt.ylabel('Accuracy')\n",
    "    plt.title('Model - Accuracy')\n",
    "    plt.legend(['Training', 'Validation'], loc='lower right')\n",
    "    plt.show()\n",
    "    \n",
    "    fig2, ax_loss = plt.subplots()\n",
    "    plt.xlabel('Epoch')\n",
    "    plt.ylabel('Loss')\n",
    "    plt.title('Model- Loss')\n",
    "    plt.legend(['Training', 'Validation'], loc='upper right')\n",
    "    plt.plot(history.history['loss'])\n",
    "    plt.plot(history.history['val_loss'])\n",
    "    plt.show()\n",
    "    target_names=['0','1','2','3','4']\n",
    "    \n",
    "    y_true=[]\n",
    "    for element in y_test:\n",
    "        y_true.append(np.argmax(element))\n",
    "    prediction_proba=model.predict(X_test)\n",
    "    prediction=np.argmax(prediction_proba,axis=1)\n",
    "    cnf_matrix = confusion_matrix(y_true, prediction)"
   ]
  },
  {
   "cell_type": "code",
   "execution_count": 12,
   "metadata": {},
   "outputs": [
    {
     "name": "stdout",
     "output_type": "stream",
     "text": [
      "Accuracy: 80.93%\n",
      "<tensorflow.python.keras.callbacks.History object at 0x7f39181fd490>\n"
     ]
    },
    {
     "data": {
      "image/png": "[encoded data removed]",
      "text/plain": [
       "<Figure size 432x288 with 1 Axes>"
      ]
     },
     "metadata": {
      "needs_background": "light"
     },
     "output_type": "display_data"
    },
    {
     "data": {
      "image/png": "[encoded data removed]",
      "text/plain": [
       "<Figure size 432x288 with 1 Axes>"
      ]
     },
     "metadata": {
      "needs_background": "light"
     },
     "output_type": "display_data"
    }
   ],
   "source": [
    "evaluate_model(history,X_test,y_test,model)\n",
    "y_pred=model.predict(X_test)"
   ]
  },
  {
   "cell_type": "markdown",
   "metadata": {},
   "source": [
    "### Confusion matrix"
   ]
  },
  {
   "cell_type": "code",
   "execution_count": 13,
   "metadata": {},
   "outputs": [
    {
     "name": "stdout",
     "output_type": "stream",
     "text": [
      "Normalized confusion matrix\n"
     ]
    },
    {
     "data": {
      "image/png": "[encoded data removed]",
      "text/plain": [
       "<Figure size 720x720 with 2 Axes>"
      ]
     },
     "metadata": {
      "needs_background": "light"
     },
     "output_type": "display_data"
    }
   ],
   "source": [
    "import itertools\n",
    "def plot_confusion_matrix(cm, classes,\n",
    "                          normalize=False,\n",
    "                          title='Confusion matrix',\n",
    "                          cmap=plt.cm.Blues):\n",
    "    \"\"\"\n",
    "    This function prints and plots the confusion matrix.\n",
    "    Normalization can be applied by setting `normalize=True`.\n",
    "    \"\"\"\n",
    "    if normalize:\n",
    "        cm = cm.astype('float') / cm.sum(axis=1)[:, np.newaxis]\n",
    "        print(\"Normalized confusion matrix\")\n",
    "    else:\n",
    "        print('Confusion matrix, without normalization')\n",
    "\n",
    "    plt.imshow(cm, interpolation='nearest', cmap=cmap)\n",
    "    plt.title(title)\n",
    "    plt.colorbar()\n",
    "    tick_marks = np.arange(len(classes))\n",
    "    plt.xticks(tick_marks, classes, rotation=45)\n",
    "    plt.yticks(tick_marks, classes)\n",
    "\n",
    "    fmt = '.2f' if normalize else 'd'\n",
    "    thresh = cm.max() / 2.\n",
    "    for i, j in itertools.product(range(cm.shape[0]), range(cm.shape[1])):\n",
    "        plt.text(j, i, format(cm[i, j], fmt),\n",
    "                 horizontalalignment=\"center\",\n",
    "                 color=\"white\" if cm[i, j] > thresh else \"black\")\n",
    "\n",
    "    plt.tight_layout()\n",
    "    plt.ylabel('True label')\n",
    "    plt.xlabel('Predicted label')\n",
    "\n",
    "# Compute confusion matrix\n",
    "cnf_matrix = confusion_matrix(y_test.argmax(axis=1), y_pred.argmax(axis=1))\n",
    "np.set_printoptions(precision=2)\n",
    "\n",
    "# Plot non-normalized confusion matrix\n",
    "plt.figure(figsize=(10, 10))\n",
    "plot_confusion_matrix(cnf_matrix, classes=['N', 'S', 'V', 'F', 'Q'],normalize=True,\n",
    "                      title='Confusion matrix, with normalization')\n",
    "plt.show()"
   ]
  },
  {
   "cell_type": "code",
   "execution_count": null,
   "metadata": {},
   "outputs": [],
   "source": []
  }
 ],
 "metadata": {
  "kernelspec": {
   "display_name": "Python 3",
   "language": "python",
   "name": "python3"
  },
  "language_info": {
   "codemirror_mode": {
    "name": "ipython",
    "version": 3
   },
   "file_extension": ".py",
   "mimetype": "text/x-python",
   "name": "python",
   "nbconvert_exporter": "python",
   "pygments_lexer": "ipython3",
   "version": "3.8.5"
  }
 },
 "nbformat": 4,
 "nbformat_minor": 4
}
