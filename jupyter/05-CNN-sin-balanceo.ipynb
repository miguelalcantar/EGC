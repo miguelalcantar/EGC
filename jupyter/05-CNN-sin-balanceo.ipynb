{
 "cells": [
  {
   "cell_type": "code",
   "execution_count": 19,
   "metadata": {},
   "outputs": [],
   "source": [
    "import pandas as pd\n",
    "import matplotlib.pyplot as plt\n",
    "from matplotlib.pyplot import figure\n",
    "import numpy as np\n",
    "import tensorflow as tf\n",
    "from keras.utils.np_utils import to_categorical\n",
    "from sklearn.metrics import confusion_matrix, precision_score, recall_score, f1_score\n",
    "import keras\n",
    "\n",
    "from keras.models import Sequential\n",
    "from keras.layers import Dense, Convolution1D, MaxPool1D, Flatten, Dropout\n",
    "from keras.layers import Input\n",
    "from keras.models import Model\n",
    "from keras.layers.normalization import BatchNormalization\n",
    "from keras.callbacks import EarlyStopping, ModelCheckpoint"
   ]
  },
  {
   "cell_type": "code",
   "execution_count": 2,
   "metadata": {},
   "outputs": [
    {
     "data": {
      "text/plain": [
       "'2.2.0'"
      ]
     },
     "execution_count": 2,
     "metadata": {},
     "output_type": "execute_result"
    }
   ],
   "source": [
    "tf.__version__"
   ]
  },
  {
   "cell_type": "code",
   "execution_count": 3,
   "metadata": {},
   "outputs": [],
   "source": [
    "train_df=pd.read_csv('../data/mitbih_train.csv',header=None)\n",
    "test_df=pd.read_csv('../data/mitbih_test.csv',header=None)"
   ]
  },
  {
   "cell_type": "code",
   "execution_count": 4,
   "metadata": {},
   "outputs": [],
   "source": [
    "target_train = train_df[187]\n",
    "target_test = test_df[187]\n",
    "\n",
    "y_train = to_categorical(target_train)\n",
    "y_test = to_categorical(target_test)"
   ]
  },
  {
   "cell_type": "code",
   "execution_count": 5,
   "metadata": {},
   "outputs": [
    {
     "name": "stdout",
     "output_type": "stream",
     "text": [
      "Despues del reshaping: \n",
      "X_train: (87554, 186, 1)\n",
      "X_test: (21892, 186, 1)\n"
     ]
    }
   ],
   "source": [
    "X_train=train_df.iloc[:,:186].values\n",
    "X_test=test_df.iloc[:,:186].values\n",
    "\n",
    "# print('Antes del reshaping: ', X_train.shape)\n",
    "\n",
    "X_train = X_train.reshape(len(X_train), X_train.shape[1],1)\n",
    "X_test = X_test.reshape(len(X_test), X_test.shape[1],1)\n",
    "\n",
    "print('Despues del reshaping: ')\n",
    "print(f'X_train: {X_train.shape}')\n",
    "print(f'X_test: {X_test.shape}')"
   ]
  },
  {
   "cell_type": "code",
   "execution_count": 13,
   "metadata": {},
   "outputs": [],
   "source": [
    "X_length = X_train.shape[0]\n",
    "coef = 0.3\n",
    "limit = int(X_length * coef)\n",
    "\n",
    "X_val = X_train[:limit]\n",
    "y_val = y_train[:limit]\n",
    "X_train = X_train[limit:]\n",
    "y_train = y_train[limit:]"
   ]
  },
  {
   "cell_type": "code",
   "execution_count": 15,
   "metadata": {},
   "outputs": [
    {
     "name": "stdout",
     "output_type": "stream",
     "text": [
      "Epoch 1/40\n",
      "240/240 [==============================] - 33s 138ms/step - loss: 0.2642 - accuracy: 0.9243 - val_loss: 3.7641 - val_accuracy: 0.0000e+00\n",
      "Epoch 2/40\n",
      "240/240 [==============================] - 33s 139ms/step - loss: 0.1374 - accuracy: 0.9607 - val_loss: 1.4089 - val_accuracy: 0.3789\n",
      "Epoch 3/40\n",
      "240/240 [==============================] - 34s 140ms/step - loss: 0.1099 - accuracy: 0.9675 - val_loss: 0.0923 - val_accuracy: 0.9724\n",
      "Epoch 4/40\n",
      "240/240 [==============================] - 34s 142ms/step - loss: 0.0953 - accuracy: 0.9725 - val_loss: 0.0298 - val_accuracy: 0.9941\n",
      "Epoch 5/40\n",
      "240/240 [==============================] - 34s 140ms/step - loss: 0.0897 - accuracy: 0.9733 - val_loss: 0.0513 - val_accuracy: 0.9881\n",
      "Epoch 6/40\n",
      "240/240 [==============================] - 36s 148ms/step - loss: 0.0808 - accuracy: 0.9759 - val_loss: 0.0444 - val_accuracy: 0.9885\n",
      "Epoch 7/40\n",
      "240/240 [==============================] - 34s 141ms/step - loss: 0.0769 - accuracy: 0.9768 - val_loss: 0.0335 - val_accuracy: 0.9912\n",
      "Epoch 8/40\n",
      "240/240 [==============================] - 34s 142ms/step - loss: 0.0728 - accuracy: 0.9781 - val_loss: 0.0459 - val_accuracy: 0.9882\n",
      "Epoch 9/40\n",
      "240/240 [==============================] - 34s 143ms/step - loss: 0.0691 - accuracy: 0.9793 - val_loss: 0.0366 - val_accuracy: 0.9907\n",
      "Epoch 10/40\n",
      "240/240 [==============================] - 34s 143ms/step - loss: 0.0656 - accuracy: 0.9800 - val_loss: 0.0491 - val_accuracy: 0.9863\n",
      "Epoch 11/40\n",
      "240/240 [==============================] - 35s 144ms/step - loss: 0.0622 - accuracy: 0.9806 - val_loss: 0.0192 - val_accuracy: 0.9947\n",
      "Epoch 12/40\n",
      "240/240 [==============================] - 35s 146ms/step - loss: 0.0600 - accuracy: 0.9814 - val_loss: 0.0211 - val_accuracy: 0.9941\n",
      "Epoch 13/40\n",
      "240/240 [==============================] - 33s 138ms/step - loss: 0.0587 - accuracy: 0.9817 - val_loss: 0.0104 - val_accuracy: 0.9971\n",
      "Epoch 14/40\n",
      "240/240 [==============================] - 33s 137ms/step - loss: 0.0557 - accuracy: 0.9826 - val_loss: 0.0287 - val_accuracy: 0.9923\n",
      "Epoch 15/40\n",
      "240/240 [==============================] - 33s 139ms/step - loss: 0.0532 - accuracy: 0.9834 - val_loss: 0.0621 - val_accuracy: 0.9815\n",
      "Epoch 16/40\n",
      "240/240 [==============================] - 33s 138ms/step - loss: 0.0531 - accuracy: 0.9832 - val_loss: 0.0300 - val_accuracy: 0.9910\n",
      "Epoch 17/40\n",
      "240/240 [==============================] - 33s 138ms/step - loss: 0.0501 - accuracy: 0.9843 - val_loss: 0.0625 - val_accuracy: 0.9797\n",
      "Epoch 18/40\n",
      "240/240 [==============================] - 33s 137ms/step - loss: 0.0488 - accuracy: 0.9844 - val_loss: 0.0050 - val_accuracy: 0.9984\n",
      "Epoch 19/40\n",
      "240/240 [==============================] - 33s 138ms/step - loss: 0.0465 - accuracy: 0.9853 - val_loss: 0.0204 - val_accuracy: 0.9939\n",
      "Epoch 20/40\n",
      "240/240 [==============================] - 33s 137ms/step - loss: 0.0457 - accuracy: 0.9854 - val_loss: 0.0435 - val_accuracy: 0.9874\n",
      "Epoch 21/40\n",
      "240/240 [==============================] - 33s 139ms/step - loss: 0.0444 - accuracy: 0.9852 - val_loss: 0.0072 - val_accuracy: 0.9979\n",
      "Epoch 22/40\n",
      "240/240 [==============================] - 34s 141ms/step - loss: 0.0431 - accuracy: 0.9863 - val_loss: 0.0278 - val_accuracy: 0.9915\n",
      "Epoch 23/40\n",
      "240/240 [==============================] - 33s 139ms/step - loss: 0.0414 - accuracy: 0.9868 - val_loss: 0.0562 - val_accuracy: 0.9818\n",
      "Epoch 24/40\n",
      "240/240 [==============================] - 34s 141ms/step - loss: 0.0416 - accuracy: 0.9864 - val_loss: 0.0656 - val_accuracy: 0.9791\n",
      "Epoch 25/40\n",
      "240/240 [==============================] - 35s 145ms/step - loss: 0.0384 - accuracy: 0.9875 - val_loss: 0.0468 - val_accuracy: 0.9857\n",
      "Epoch 26/40\n",
      "240/240 [==============================] - 38s 157ms/step - loss: 0.0381 - accuracy: 0.9875 - val_loss: 0.0340 - val_accuracy: 0.9899\n"
     ]
    }
   ],
   "source": [
    "model = Sequential()\n",
    "\n",
    "model.add(Convolution1D(32, (6), activation='relu', input_shape=(X_train.shape[1],1)))\n",
    "model.add(BatchNormalization())\n",
    "model.add(MaxPool1D(pool_size=(3), strides=(2), padding=\"same\"))\n",
    "\n",
    "model.add(Convolution1D(32, (3), activation='relu', input_shape=(X_train.shape[1],1)))\n",
    "model.add(BatchNormalization())\n",
    "model.add(MaxPool1D(pool_size=(2), strides=(2), padding=\"same\"))\n",
    "\n",
    "model.add(Convolution1D(32, (3), activation='relu', input_shape=(X_train.shape[1],1)))\n",
    "model.add(BatchNormalization())\n",
    "model.add(MaxPool1D(pool_size=(2), strides=(2), padding=\"same\"))\n",
    "\n",
    "model.add(Flatten())\n",
    "\n",
    "model.add(Dense(5, activation='softmax', name='main_output'))\n",
    "\n",
    "model.compile(optimizer='adam', loss='categorical_crossentropy',metrics = ['accuracy'])\n",
    "\n",
    "callbacks = [EarlyStopping(monitor='val_loss', patience=8),\n",
    "                 ModelCheckpoint(filepath='conv_model2.h5', monitor='val_loss', save_best_only=True)]\n",
    "\n",
    "history=model.fit(X_train, y_train,epochs=40,callbacks=callbacks, batch_size=256,validation_data=(X_val,y_val))"
   ]
  },
  {
   "cell_type": "code",
   "execution_count": 16,
   "metadata": {},
   "outputs": [],
   "source": [
    "def evaluate_model(history,X_test,y_test,model):\n",
    "    scores = model.evaluate((X_test),y_test, verbose=0)\n",
    "    print(\"Accuracy: %.2f%%\" % (scores[1]*100))\n",
    "    \n",
    "    print(history)\n",
    "    fig1, ax_acc = plt.subplots()\n",
    "    plt.plot(history.history['accuracy'])\n",
    "    plt.plot(history.history['val_accuracy'])\n",
    "    plt.xlabel('Epoch')\n",
    "    plt.ylabel('Accuracy')\n",
    "    plt.title('Model - Accuracy')\n",
    "    plt.legend(['Training', 'Validation'], loc='lower right')\n",
    "    plt.show()\n",
    "    \n",
    "    fig2, ax_loss = plt.subplots()\n",
    "    plt.xlabel('Epoch')\n",
    "    plt.ylabel('Loss')\n",
    "    plt.title('Model- Loss')\n",
    "    plt.legend(['Training', 'Validation'], loc='upper right')\n",
    "    plt.plot(history.history['loss'])\n",
    "    plt.plot(history.history['val_loss'])\n",
    "    plt.show()\n",
    "    target_names=['0','1','2','3','4']\n",
    "    \n",
    "    y_true=[]\n",
    "    for element in y_test:\n",
    "        y_true.append(np.argmax(element))\n",
    "    prediction_proba=model.predict(X_test)\n",
    "    prediction=np.argmax(prediction_proba,axis=1)\n",
    "    cnf_matrix = confusion_matrix(y_true, prediction)"
   ]
  },
  {
   "cell_type": "code",
   "execution_count": 17,
   "metadata": {},
   "outputs": [
    {
     "name": "stdout",
     "output_type": "stream",
     "text": [
      "Accuracy: 97.92%\n",
      "<tensorflow.python.keras.callbacks.History object at 0x7efe524cf3d0>\n"
     ]
    },
    {
     "data": {
      "image/png": "[encoded data removed]",
      "text/plain": [
       "<Figure size 432x288 with 1 Axes>"
      ]
     },
     "metadata": {
      "needs_background": "light"
     },
     "output_type": "display_data"
    },
    {
     "data": {
      "image/png": "[encoded data removed]",
      "text/plain": [
       "<Figure size 432x288 with 1 Axes>"
      ]
     },
     "metadata": {
      "needs_background": "light"
     },
     "output_type": "display_data"
    }
   ],
   "source": [
    "evaluate_model(history,X_test,y_test,model)\n",
    "y_pred=model.predict(X_test)"
   ]
  },
  {
   "cell_type": "code",
   "execution_count": 21,
   "metadata": {},
   "outputs": [
    {
     "name": "stdout",
     "output_type": "stream",
     "text": [
      "Model: \"sequential_2\"\n",
      "_________________________________________________________________\n",
      "Layer (type)                 Output Shape              Param #   \n",
      "=================================================================\n",
      "conv1d_6 (Conv1D)            (None, 181, 32)           224       \n",
      "_________________________________________________________________\n",
      "batch_normalization_6 (Batch (None, 181, 32)           128       \n",
      "_________________________________________________________________\n",
      "max_pooling1d_6 (MaxPooling1 (None, 91, 32)            0         \n",
      "_________________________________________________________________\n",
      "conv1d_7 (Conv1D)            (None, 89, 32)            3104      \n",
      "_________________________________________________________________\n",
      "batch_normalization_7 (Batch (None, 89, 32)            128       \n",
      "_________________________________________________________________\n",
      "max_pooling1d_7 (MaxPooling1 (None, 45, 32)            0         \n",
      "_________________________________________________________________\n",
      "conv1d_8 (Conv1D)            (None, 43, 32)            3104      \n",
      "_________________________________________________________________\n",
      "batch_normalization_8 (Batch (None, 43, 32)            128       \n",
      "_________________________________________________________________\n",
      "max_pooling1d_8 (MaxPooling1 (None, 22, 32)            0         \n",
      "_________________________________________________________________\n",
      "flatten_2 (Flatten)          (None, 704)               0         \n",
      "_________________________________________________________________\n",
      "main_output (Dense)          (None, 5)                 3525      \n",
      "=================================================================\n",
      "Total params: 10,341\n",
      "Trainable params: 10,149\n",
      "Non-trainable params: 192\n",
      "_________________________________________________________________\n"
     ]
    }
   ],
   "source": [
    "# model_name = 'best_model.h5'\n",
    "# model = keras.models.load_model(f'../model/{model_name}')\n",
    "\n",
    "y_pred = model.predict(X_test)\n",
    "model.summary()"
   ]
  },
  {
   "cell_type": "code",
   "execution_count": 40,
   "metadata": {},
   "outputs": [],
   "source": [
    "def get_max_index_list(x):\n",
    "    return [np.where(i == np.amax(i))[0][0] for i in x]"
   ]
  },
  {
   "cell_type": "code",
   "execution_count": 46,
   "metadata": {},
   "outputs": [
    {
     "name": "stdout",
     "output_type": "stream",
     "text": [
      "Precision 0.900505041809892\n",
      "Recall 0.8947012947838708\n",
      "f1_score 0.8975119560551106\n"
     ]
    }
   ],
   "source": [
    "y_test_list = get_max_index_list(y_test)\n",
    "y_pred_list = get_max_index_list(y_pred)\n",
    "\n",
    "print(\"Precision\", precision_score(y_test_list, y_pred_list, average='macro'))\n",
    "print(\"Recall\", recall_score(y_test_list, y_pred_list, average='macro'))\n",
    "print(\"f1_score\", f1_score(y_test_list, y_pred_list, average='macro'))"
   ]
  },
  {
   "cell_type": "code",
   "execution_count": 9,
   "metadata": {},
   "outputs": [
    {
     "name": "stdout",
     "output_type": "stream",
     "text": [
      "Normalized confusion matrix\n"
     ]
    },
    {
     "data": {
      "image/png": "[encoded data removed]",
      "text/plain": [
       "<Figure size 720x720 with 2 Axes>"
      ]
     },
     "metadata": {
      "needs_background": "light"
     },
     "output_type": "display_data"
    }
   ],
   "source": [
    "import itertools\n",
    "def plot_confusion_matrix(cm, classes,\n",
    "                          normalize=False,\n",
    "                          title='Confusion matrix',\n",
    "                          cmap=plt.cm.Blues):\n",
    "    \"\"\"\n",
    "    This function prints and plots the confusion matrix.\n",
    "    Normalization can be applied by setting `normalize=True`.\n",
    "    \"\"\"\n",
    "    if normalize:\n",
    "        cm = cm.astype('float') / cm.sum(axis=1)[:, np.newaxis]\n",
    "        print(\"Normalized confusion matrix\")\n",
    "    else:\n",
    "        print('Confusion matrix, without normalization')\n",
    "\n",
    "    plt.imshow(cm, interpolation='nearest', cmap=cmap)\n",
    "    plt.title(title)\n",
    "    plt.colorbar()\n",
    "    tick_marks = np.arange(len(classes))\n",
    "    plt.xticks(tick_marks, classes, rotation=45)\n",
    "    plt.yticks(tick_marks, classes)\n",
    "\n",
    "    fmt = '.2f' if normalize else 'd'\n",
    "    thresh = cm.max() / 2.\n",
    "    for i, j in itertools.product(range(cm.shape[0]), range(cm.shape[1])):\n",
    "        plt.text(j, i, format(cm[i, j], fmt),\n",
    "                 horizontalalignment=\"center\",\n",
    "                 color=\"white\" if cm[i, j] > thresh else \"black\")\n",
    "\n",
    "    plt.tight_layout()\n",
    "    plt.ylabel('True label')\n",
    "    plt.xlabel('Predicted label')\n",
    "\n",
    "# Compute confusion matrix\n",
    "cnf_matrix = confusion_matrix(y_test.argmax(axis=1), y_pred.argmax(axis=1))\n",
    "np.set_printoptions(precision=2)\n",
    "\n",
    "# Plot non-normalized confusion matrix\n",
    "plt.figure(figsize=(10, 10))\n",
    "plot_confusion_matrix(cnf_matrix, classes=['N', 'S', 'V', 'F', 'Q'],normalize=True,\n",
    "                      title='Confusion matrix, with normalization')\n",
    "plt.show()"
   ]
  },
  {
   "cell_type": "code",
   "execution_count": null,
   "metadata": {},
   "outputs": [],
   "source": []
  }
 ],
 "metadata": {
  "kernelspec": {
   "display_name": "Python 3",
   "language": "python",
   "name": "python3"
  },
  "language_info": {
   "codemirror_mode": {
    "name": "ipython",
    "version": 3
   },
   "file_extension": ".py",
   "mimetype": "text/x-python",
   "name": "python",
   "nbconvert_exporter": "python",
   "pygments_lexer": "ipython3",
   "version": "3.8.5"
  }
 },
 "nbformat": 4,
 "nbformat_minor": 4
}
