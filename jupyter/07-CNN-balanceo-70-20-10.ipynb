{
 "cells": [
  {
   "cell_type": "markdown",
   "metadata": {},
   "source": [
    "### Instalando librerias"
   ]
  },
  {
   "cell_type": "code",
   "execution_count": null,
   "metadata": {},
   "outputs": [],
   "source": []
  },
  {
   "cell_type": "code",
   "execution_count": 1,
   "metadata": {},
   "outputs": [],
   "source": [
    "import pandas as pd\n",
    "import matplotlib.pyplot as plt\n",
    "from matplotlib.pyplot import figure\n",
    "import numpy as np\n",
    "import tensorflow as tf\n",
    "from sklearn.metrics import confusion_matrix, precision_score, recall_score, f1_score\n",
    "from keras.utils import to_categorical\n",
    "import keras\n",
    "\n",
    "from keras.models import Sequential\n",
    "from keras.layers import Dense, Convolution1D, MaxPool1D, Flatten, Dropout\n",
    "from keras.layers import Input\n",
    "from keras.models import Model\n",
    "from keras.layers.normalization import BatchNormalization\n",
    "from keras.callbacks import EarlyStopping, ModelCheckpoint"
   ]
  },
  {
   "cell_type": "code",
   "execution_count": 2,
   "metadata": {},
   "outputs": [
    {
     "data": {
      "text/plain": [
       "'2.2.0'"
      ]
     },
     "execution_count": 2,
     "metadata": {},
     "output_type": "execute_result"
    }
   ],
   "source": [
    "tf.__version__"
   ]
  },
  {
   "cell_type": "markdown",
   "metadata": {},
   "source": [
    "### Lectura de datos csv"
   ]
  },
  {
   "cell_type": "code",
   "execution_count": 81,
   "metadata": {},
   "outputs": [],
   "source": [
    "train_df=pd.read_csv('../data/mitbih_train.csv',header=None)\n",
    "test_df=pd.read_csv('../data/mitbih_test.csv',header=None)"
   ]
  },
  {
   "cell_type": "code",
   "execution_count": 82,
   "metadata": {},
   "outputs": [
    {
     "data": {
      "text/plain": [
       "(87554, 188)"
      ]
     },
     "execution_count": 82,
     "metadata": {},
     "output_type": "execute_result"
    }
   ],
   "source": [
    "train_df.shape"
   ]
  },
  {
   "cell_type": "markdown",
   "metadata": {},
   "source": [
    "### Preprocesamiento"
   ]
  },
  {
   "cell_type": "code",
   "execution_count": 83,
   "metadata": {},
   "outputs": [],
   "source": [
    "test_df = pd.concat([test_df[test_df[187]==0], test_df[test_df[187]==1], test_df[test_df[187]==2], test_df[test_df[187]==3]])\n",
    "\n",
    "test_df = test_df.sample(frac=1).reset_index(drop=True)"
   ]
  },
  {
   "cell_type": "code",
   "execution_count": 84,
   "metadata": {},
   "outputs": [],
   "source": [
    "n_test = len(test_df)\n",
    "spliting = int(n_test * 0.333)\n",
    "\n",
    "val_df = test_df.iloc[:spliting]\n",
    "test_df = test_df.iloc[spliting:]"
   ]
  },
  {
   "cell_type": "code",
   "execution_count": 85,
   "metadata": {},
   "outputs": [
    {
     "name": "stdout",
     "output_type": "stream",
     "text": [
      "Latidos normales 72471\n",
      "S 2223\n",
      "V 5788\n",
      "F 641\n",
      "Suma: 8652\n",
      "Total: 72471\n",
      "Recortando: 20188.0\n"
     ]
    }
   ],
   "source": [
    "print(\"Latidos normales\", len(train_df[train_df[187]==0]))\n",
    "print(\"S\", len(train_df[train_df[187]==1]))\n",
    "print(\"V\", len(train_df[train_df[187]==2]))\n",
    "print(\"F\", len(train_df[train_df[187]==3]))\n",
    "\n",
    "n = len(train_df[train_df[187]==1]) + len(train_df[train_df[187]==2]) + len(train_df[train_df[187]==3])\n",
    "\n",
    "print(\"Suma:\", n)\n",
    "\n",
    "print(\"Total:\", len(train_df[train_df[187]==0]))\n",
    "r = n * 70 / 30\n",
    "print(\"Recortando:\", r)"
   ]
  },
  {
   "cell_type": "code",
   "execution_count": 86,
   "metadata": {},
   "outputs": [],
   "source": [
    "df_0=train_df[train_df[187]==0].iloc[:int(r)]\n",
    "train_df=pd.concat([df_0,train_df[train_df[187]==1],train_df[train_df[187]==2],train_df[train_df[187]==3]])"
   ]
  },
  {
   "cell_type": "markdown",
   "metadata": {},
   "source": [
    "### Shaping"
   ]
  },
  {
   "cell_type": "code",
   "execution_count": 87,
   "metadata": {},
   "outputs": [],
   "source": [
    "target_train = train_df[187]\n",
    "target_val = val_df[187]\n",
    "target_test = test_df[187]\n",
    "\n",
    "y_train = to_categorical(target_train)\n",
    "y_test = to_categorical(target_test)\n",
    "y_val = to_categorical(target_val)"
   ]
  },
  {
   "cell_type": "code",
   "execution_count": 88,
   "metadata": {},
   "outputs": [
    {
     "data": {
      "text/plain": [
       "13530"
      ]
     },
     "execution_count": 88,
     "metadata": {},
     "output_type": "execute_result"
    }
   ],
   "source": [
    "len(y_test)"
   ]
  },
  {
   "cell_type": "code",
   "execution_count": 89,
   "metadata": {},
   "outputs": [
    {
     "name": "stdout",
     "output_type": "stream",
     "text": [
      "Despues del reshaping: \n",
      "X_train: (28840, 186, 1)\n",
      "X_test: (13530, 186, 1)\n",
      "X_val: (6754, 186, 1)\n"
     ]
    }
   ],
   "source": [
    "X_train=train_df.iloc[:,:186].values\n",
    "X_test=test_df.iloc[:,:186].values\n",
    "X_val=val_df.iloc[:,:186].values\n",
    "\n",
    "# print('Antes del reshaping: ', X_train.shape)\n",
    "\n",
    "X_train = X_train.reshape(len(X_train), X_train.shape[1],1)\n",
    "X_test = X_test.reshape(len(X_test), X_test.shape[1],1)\n",
    "X_val = X_val.reshape(len(X_val), X_val.shape[1],1)\n",
    "\n",
    "print('Despues del reshaping: ')\n",
    "print(f'X_train: {X_train.shape}')\n",
    "print(f'X_test: {X_test.shape}')\n",
    "print(f'X_val: {X_val.shape}')"
   ]
  },
  {
   "cell_type": "markdown",
   "metadata": {},
   "source": [
    "### Modelo"
   ]
  },
  {
   "cell_type": "code",
   "execution_count": 90,
   "metadata": {},
   "outputs": [
    {
     "name": "stdout",
     "output_type": "stream",
     "text": [
      "Epoch 1/40\n",
      "113/113 [==============================] - 15s 136ms/step - loss: 0.3869 - accuracy: 0.8787 - val_loss: 2.5001 - val_accuracy: 0.0503\n",
      "Epoch 2/40\n",
      "113/113 [==============================] - 16s 140ms/step - loss: 0.2206 - accuracy: 0.9346 - val_loss: 2.9450 - val_accuracy: 0.0877\n",
      "Epoch 3/40\n",
      "113/113 [==============================] - 15s 129ms/step - loss: 0.1808 - accuracy: 0.9443 - val_loss: 2.2193 - val_accuracy: 0.0927\n",
      "Epoch 4/40\n",
      "113/113 [==============================] - 14s 126ms/step - loss: 0.1587 - accuracy: 0.9497 - val_loss: 1.7762 - val_accuracy: 0.1435\n",
      "Epoch 5/40\n",
      "113/113 [==============================] - 14s 123ms/step - loss: 0.1430 - accuracy: 0.9547 - val_loss: 0.7075 - val_accuracy: 0.6954\n",
      "Epoch 6/40\n",
      "113/113 [==============================] - 14s 126ms/step - loss: 0.1307 - accuracy: 0.9594 - val_loss: 0.2431 - val_accuracy: 0.9257\n",
      "Epoch 7/40\n",
      "113/113 [==============================] - 14s 127ms/step - loss: 0.1237 - accuracy: 0.9608 - val_loss: 0.1346 - val_accuracy: 0.9619\n",
      "Epoch 8/40\n",
      "113/113 [==============================] - 14s 125ms/step - loss: 0.1173 - accuracy: 0.9630 - val_loss: 0.1608 - val_accuracy: 0.9525\n",
      "Epoch 9/40\n",
      "113/113 [==============================] - 14s 128ms/step - loss: 0.1096 - accuracy: 0.9655 - val_loss: 0.0923 - val_accuracy: 0.9751\n",
      "Epoch 10/40\n",
      "113/113 [==============================] - 14s 126ms/step - loss: 0.1048 - accuracy: 0.9662 - val_loss: 0.1151 - val_accuracy: 0.9704\n",
      "Epoch 11/40\n",
      "113/113 [==============================] - 14s 128ms/step - loss: 0.0997 - accuracy: 0.9686 - val_loss: 0.1375 - val_accuracy: 0.9612\n",
      "Epoch 12/40\n",
      "113/113 [==============================] - 14s 123ms/step - loss: 0.0948 - accuracy: 0.9692 - val_loss: 0.1373 - val_accuracy: 0.9600\n",
      "Epoch 13/40\n",
      "113/113 [==============================] - 14s 125ms/step - loss: 0.0925 - accuracy: 0.9706 - val_loss: 0.0967 - val_accuracy: 0.9747\n",
      "Epoch 14/40\n",
      "113/113 [==============================] - 14s 123ms/step - loss: 0.0862 - accuracy: 0.9720 - val_loss: 0.0880 - val_accuracy: 0.9747\n",
      "Epoch 15/40\n",
      "113/113 [==============================] - 14s 127ms/step - loss: 0.0830 - accuracy: 0.9727 - val_loss: 0.1155 - val_accuracy: 0.9677\n",
      "Epoch 16/40\n",
      "113/113 [==============================] - 15s 132ms/step - loss: 0.0781 - accuracy: 0.9748 - val_loss: 0.0843 - val_accuracy: 0.9751\n",
      "Epoch 17/40\n",
      "113/113 [==============================] - 14s 125ms/step - loss: 0.0753 - accuracy: 0.9761 - val_loss: 0.1257 - val_accuracy: 0.9633\n",
      "Epoch 18/40\n",
      "113/113 [==============================] - 14s 125ms/step - loss: 0.0729 - accuracy: 0.9760 - val_loss: 0.0916 - val_accuracy: 0.9733\n",
      "Epoch 19/40\n",
      "113/113 [==============================] - 15s 134ms/step - loss: 0.0702 - accuracy: 0.9770 - val_loss: 0.0910 - val_accuracy: 0.9762\n",
      "Epoch 20/40\n",
      "113/113 [==============================] - 15s 137ms/step - loss: 0.0662 - accuracy: 0.9783 - val_loss: 0.1333 - val_accuracy: 0.9615\n",
      "Epoch 21/40\n",
      "113/113 [==============================] - 14s 126ms/step - loss: 0.0681 - accuracy: 0.9773 - val_loss: 0.0964 - val_accuracy: 0.9705\n",
      "Epoch 22/40\n",
      "113/113 [==============================] - 16s 140ms/step - loss: 0.0624 - accuracy: 0.9792 - val_loss: 0.1090 - val_accuracy: 0.9665\n",
      "Epoch 23/40\n",
      "113/113 [==============================] - 15s 130ms/step - loss: 0.0615 - accuracy: 0.9793 - val_loss: 0.0895 - val_accuracy: 0.9760\n",
      "Epoch 24/40\n",
      "113/113 [==============================] - 15s 130ms/step - loss: 0.0583 - accuracy: 0.9806 - val_loss: 0.1333 - val_accuracy: 0.9580\n"
     ]
    }
   ],
   "source": [
    "model = Sequential()\n",
    "\n",
    "model.add(Convolution1D(32, (6), activation='relu', input_shape=(X_train.shape[1],1)))\n",
    "model.add(BatchNormalization())\n",
    "model.add(MaxPool1D(pool_size=(3), strides=(2), padding=\"same\"))\n",
    "\n",
    "model.add(Convolution1D(32, (3), activation='relu', input_shape=(X_train.shape[1],1)))\n",
    "model.add(BatchNormalization())\n",
    "model.add(MaxPool1D(pool_size=(2), strides=(2), padding=\"same\"))\n",
    "\n",
    "model.add(Convolution1D(32, (3), activation='relu', input_shape=(X_train.shape[1],1)))\n",
    "model.add(BatchNormalization())\n",
    "model.add(MaxPool1D(pool_size=(2), strides=(2), padding=\"same\"))\n",
    "\n",
    "model.add(Flatten())\n",
    "\n",
    "model.add(Dense(4, activation='softmax', name='main_output'))\n",
    "\n",
    "model.compile(optimizer='adam', loss='categorical_crossentropy',metrics = ['accuracy'])\n",
    "\n",
    "callbacks = [EarlyStopping(monitor='val_loss', patience=8),\n",
    "                 ModelCheckpoint(filepath='conv_model_702010.h5', monitor='val_loss', save_best_only=True)]\n",
    "\n",
    "history=model.fit(X_train, y_train,epochs=40,callbacks=callbacks, batch_size=256,validation_data=(X_val,y_val))"
   ]
  },
  {
   "cell_type": "markdown",
   "metadata": {},
   "source": [
    "### Ploting results"
   ]
  },
  {
   "cell_type": "code",
   "execution_count": 91,
   "metadata": {},
   "outputs": [],
   "source": [
    "def evaluate_model(history,X_test,y_test,model):\n",
    "    scores = model.evaluate((X_test),y_test, verbose=0)\n",
    "    print(\"Accuracy: %.2f%%\" % (scores[1]*100))\n",
    "    \n",
    "    print(history)\n",
    "    fig1, ax_acc = plt.subplots()\n",
    "    plt.plot(history.history['accuracy'])\n",
    "    plt.plot(history.history['val_accuracy'])\n",
    "    plt.xlabel('Epoch')\n",
    "    plt.ylabel('Accuracy')\n",
    "    plt.title('Model - Accuracy')\n",
    "    plt.legend(['Training', 'Validation'], loc='lower right')\n",
    "    plt.show()\n",
    "    \n",
    "    fig2, ax_loss = plt.subplots()\n",
    "    plt.xlabel('Epoch')\n",
    "    plt.ylabel('Loss')\n",
    "    plt.title('Model- Loss')\n",
    "    plt.legend(['Training', 'Validation'], loc='upper right')\n",
    "    plt.plot(history.history['loss'])\n",
    "    plt.plot(history.history['val_loss'])\n",
    "    plt.show()\n",
    "    target_names=['0','1','2','3','4']\n",
    "    \n",
    "    y_true=[]\n",
    "    for element in y_test:\n",
    "        y_true.append(np.argmax(element))\n",
    "    prediction_proba=model.predict(X_test)\n",
    "    prediction=np.argmax(prediction_proba,axis=1)\n",
    "    cnf_matrix = confusion_matrix(y_true, prediction)"
   ]
  },
  {
   "cell_type": "code",
   "execution_count": 92,
   "metadata": {},
   "outputs": [
    {
     "name": "stdout",
     "output_type": "stream",
     "text": [
      "Accuracy: 95.62%\n",
      "<tensorflow.python.keras.callbacks.History object at 0x7fd6c371b760>\n"
     ]
    },
    {
     "data": {
      "image/png": "[encoded data removed]",
      "text/plain": [
       "<Figure size 432x288 with 1 Axes>"
      ]
     },
     "metadata": {
      "needs_background": "light"
     },
     "output_type": "display_data"
    },
    {
     "data": {
      "image/png": "[encoded data removed]",
      "text/plain": [
       "<Figure size 432x288 with 1 Axes>"
      ]
     },
     "metadata": {
      "needs_background": "light"
     },
     "output_type": "display_data"
    }
   ],
   "source": [
    "evaluate_model(history,X_test,y_test,model)\n",
    "y_pred=model.predict(X_test)"
   ]
  },
  {
   "cell_type": "code",
   "execution_count": 93,
   "metadata": {},
   "outputs": [
    {
     "name": "stdout",
     "output_type": "stream",
     "text": [
      "Model: \"sequential_7\"\n",
      "_________________________________________________________________\n",
      "Layer (type)                 Output Shape              Param #   \n",
      "=================================================================\n",
      "conv1d_21 (Conv1D)           (None, 181, 32)           224       \n",
      "_________________________________________________________________\n",
      "batch_normalization_21 (Batc (None, 181, 32)           128       \n",
      "_________________________________________________________________\n",
      "max_pooling1d_21 (MaxPooling (None, 91, 32)            0         \n",
      "_________________________________________________________________\n",
      "conv1d_22 (Conv1D)           (None, 89, 32)            3104      \n",
      "_________________________________________________________________\n",
      "batch_normalization_22 (Batc (None, 89, 32)            128       \n",
      "_________________________________________________________________\n",
      "max_pooling1d_22 (MaxPooling (None, 45, 32)            0         \n",
      "_________________________________________________________________\n",
      "conv1d_23 (Conv1D)           (None, 43, 32)            3104      \n",
      "_________________________________________________________________\n",
      "batch_normalization_23 (Batc (None, 43, 32)            128       \n",
      "_________________________________________________________________\n",
      "max_pooling1d_23 (MaxPooling (None, 22, 32)            0         \n",
      "_________________________________________________________________\n",
      "flatten_7 (Flatten)          (None, 704)               0         \n",
      "_________________________________________________________________\n",
      "main_output (Dense)          (None, 4)                 2820      \n",
      "=================================================================\n",
      "Total params: 9,636\n",
      "Trainable params: 9,444\n",
      "Non-trainable params: 192\n",
      "_________________________________________________________________\n"
     ]
    }
   ],
   "source": [
    "# model_name = 'best_model.h5'\n",
    "# model = keras.models.load_model(f'../model/{model_name}')\n",
    "\n",
    "y_pred = model.predict(X_test)\n",
    "model.summary()"
   ]
  },
  {
   "cell_type": "code",
   "execution_count": 94,
   "metadata": {},
   "outputs": [],
   "source": [
    "def get_max_index_list(x):\n",
    "    return [np.where(i == np.amax(i))[0][0] for i in x]"
   ]
  },
  {
   "cell_type": "code",
   "execution_count": 96,
   "metadata": {},
   "outputs": [
    {
     "name": "stdout",
     "output_type": "stream",
     "text": [
      "Precision 0.9562453806356246\n",
      "Recall 0.9562453806356246\n",
      "f1_score 0.9562453806356246\n"
     ]
    }
   ],
   "source": [
    "y_test_list = get_max_index_list(y_test)\n",
    "y_pred_list = get_max_index_list(y_pred)\n",
    "\n",
    "print(\"Precision\", precision_score(y_test_list, y_pred_list, average='micro'))\n",
    "print(\"Recall\", recall_score(y_test_list, y_pred_list, average='micro'))\n",
    "print(\"f1_score\", f1_score(y_test_list, y_pred_list, average='micro'))"
   ]
  },
  {
   "cell_type": "markdown",
   "metadata": {},
   "source": [
    "### Confusion matrix"
   ]
  },
  {
   "cell_type": "code",
   "execution_count": 97,
   "metadata": {},
   "outputs": [
    {
     "name": "stdout",
     "output_type": "stream",
     "text": [
      "Normalized confusion matrix\n"
     ]
    },
    {
     "data": {
      "image/png": "[encoded data removed]",
      "text/plain": [
       "<Figure size 720x720 with 2 Axes>"
      ]
     },
     "metadata": {
      "needs_background": "light"
     },
     "output_type": "display_data"
    }
   ],
   "source": [
    "import itertools\n",
    "def plot_confusion_matrix(cm, classes,\n",
    "                          normalize=False,\n",
    "                          title='Confusion matrix',\n",
    "                          cmap=plt.cm.Blues):\n",
    "    \"\"\"\n",
    "    This function prints and plots the confusion matrix.\n",
    "    Normalization can be applied by setting `normalize=True`.\n",
    "    \"\"\"\n",
    "    if normalize:\n",
    "        cm = cm.astype('float') / cm.sum(axis=1)[:, np.newaxis]\n",
    "        print(\"Normalized confusion matrix\")\n",
    "    else:\n",
    "        print('Confusion matrix, without normalization')\n",
    "\n",
    "    plt.imshow(cm, interpolation='nearest', cmap=cmap)\n",
    "    plt.title(title)\n",
    "    plt.colorbar()\n",
    "    tick_marks = np.arange(len(classes))\n",
    "    plt.xticks(tick_marks, classes, rotation=45)\n",
    "    plt.yticks(tick_marks, classes)\n",
    "\n",
    "    fmt = '.2f' if normalize else 'd'\n",
    "    thresh = cm.max() / 2.\n",
    "    for i, j in itertools.product(range(cm.shape[0]), range(cm.shape[1])):\n",
    "        plt.text(j, i, format(cm[i, j], fmt),\n",
    "                 horizontalalignment=\"center\",\n",
    "                 color=\"white\" if cm[i, j] > thresh else \"black\")\n",
    "\n",
    "    plt.tight_layout()\n",
    "    plt.ylabel('True label')\n",
    "    plt.xlabel('Predicted label')\n",
    "\n",
    "# Compute confusion matrix\n",
    "cnf_matrix = confusion_matrix(y_test.argmax(axis=1), y_pred.argmax(axis=1))\n",
    "np.set_printoptions(precision=2)\n",
    "\n",
    "# Plot non-normalized confusion matrix\n",
    "plt.figure(figsize=(10, 10))\n",
    "plot_confusion_matrix(cnf_matrix, classes=['N', 'S', 'V', 'F', 'Q'],normalize=True,\n",
    "                      title='Confusion matrix, with normalization')\n",
    "plt.show()"
   ]
  },
  {
   "cell_type": "code",
   "execution_count": null,
   "metadata": {},
   "outputs": [],
   "source": []
  }
 ],
 "metadata": {
  "kernelspec": {
   "display_name": "Python 3",
   "language": "python",
   "name": "python3"
  },
  "language_info": {
   "codemirror_mode": {
    "name": "ipython",
    "version": 3
   },
   "file_extension": ".py",
   "mimetype": "text/x-python",
   "name": "python",
   "nbconvert_exporter": "python",
   "pygments_lexer": "ipython3",
   "version": "3.8.5"
  }
 },
 "nbformat": 4,
 "nbformat_minor": 4
}
